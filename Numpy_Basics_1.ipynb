{
  "nbformat": 4,
  "nbformat_minor": 0,
  "metadata": {
    "colab": {
      "name": "Numpy Basics 1.ipynb",
      "provenance": []
    },
    "kernelspec": {
      "name": "python3",
      "display_name": "Python 3"
    },
    "language_info": {
      "name": "python"
    }
  },
  "cells": [
    {
      "cell_type": "code",
      "metadata": {
        "id": "zg4dPZE_U8Dg"
      },
      "source": [
        "import numpy as np"
      ],
      "execution_count": null,
      "outputs": []
    },
    {
      "cell_type": "code",
      "metadata": {
        "colab": {
          "base_uri": "https://localhost:8080/"
        },
        "id": "roTxGGssVbet",
        "outputId": "e735c6bf-1079-4b02-9ef6-5dfbae81e696"
      },
      "source": [
        "#Creating 1-D numpy array\n",
        "mylist1=[101,102,103]\n",
        "myArray=np.array(mylist1)\n",
        "print(myArray)"
      ],
      "execution_count": null,
      "outputs": [
        {
          "output_type": "stream",
          "text": [
            "[101 102 103]\n"
          ],
          "name": "stdout"
        }
      ]
    },
    {
      "cell_type": "code",
      "metadata": {
        "colab": {
          "base_uri": "https://localhost:8080/"
        },
        "id": "zz51qd4RWKNk",
        "outputId": "c4c5b5a5-faa1-4e20-fcdd-d875c0d353f4"
      },
      "source": [
        "#creating 2D numpy array\n",
        "mylist2=[201,202,203]\n",
        "myArray2D=np.array([mylist1,mylist2])\n",
        "print(myArray2D)"
      ],
      "execution_count": null,
      "outputs": [
        {
          "output_type": "stream",
          "text": [
            "[[101 102 103]\n",
            " [201 202 203]]\n"
          ],
          "name": "stdout"
        }
      ]
    },
    {
      "cell_type": "code",
      "metadata": {
        "colab": {
          "base_uri": "https://localhost:8080/"
        },
        "id": "oosNFO5vYo-1",
        "outputId": "9c4610bf-7dcd-459a-e7f2-fd43e23e59b9"
      },
      "source": [
        "#Finding dimensions of array - shape\n",
        "print(\"myArray Dimensions\")\n",
        "print(myArray.shape)\n",
        "print(\"myArray2D Dimensions\")\n",
        "print(myArray2D.shape)"
      ],
      "execution_count": null,
      "outputs": [
        {
          "output_type": "stream",
          "text": [
            "myArray Dimensions\n",
            "(3,)\n",
            "myArray2D Dimensions\n",
            "(2, 3)\n"
          ],
          "name": "stdout"
        }
      ]
    },
    {
      "cell_type": "code",
      "metadata": {
        "colab": {
          "base_uri": "https://localhost:8080/"
        },
        "id": "PYQwsO86Zqlr",
        "outputId": "229197aa-baf2-494d-ea1e-0ed6d160d6eb"
      },
      "source": [
        "#Finding Datatype of array - dtype\n",
        "print(\"myArray Datatype\")\n",
        "print(myArray.dtype)\n",
        "print(\"myArray2D Datatype\")\n",
        "print(myArray2D.dtype)"
      ],
      "execution_count": null,
      "outputs": [
        {
          "output_type": "stream",
          "text": [
            "myArray Datatype\n",
            "int64\n",
            "myArray2D Datatype\n",
            "int64\n"
          ],
          "name": "stdout"
        }
      ]
    },
    {
      "cell_type": "code",
      "metadata": {
        "colab": {
          "base_uri": "https://localhost:8080/"
        },
        "id": "kovcLXy0aUjz",
        "outputId": "28d7229e-76f2-4dc8-b8d5-9d163555a192"
      },
      "source": [
        "#Array creation and Initialization Functions - zeros\n",
        "zero_array=np.zeros(5)\n",
        "print(zero_array)\n",
        "zero_array2D=np.zeros([5,5])\n",
        "print(zero_array2D)"
      ],
      "execution_count": null,
      "outputs": [
        {
          "output_type": "stream",
          "text": [
            "[0. 0. 0. 0. 0.]\n",
            "[[0. 0. 0. 0. 0.]\n",
            " [0. 0. 0. 0. 0.]\n",
            " [0. 0. 0. 0. 0.]\n",
            " [0. 0. 0. 0. 0.]\n",
            " [0. 0. 0. 0. 0.]]\n"
          ],
          "name": "stdout"
        }
      ]
    },
    {
      "cell_type": "code",
      "metadata": {
        "colab": {
          "base_uri": "https://localhost:8080/"
        },
        "id": "VlMsGV1Cbpws",
        "outputId": "776e9533-f939-4c2d-9ac2-0e1b299c0c6a"
      },
      "source": [
        "#Array creation and Initialization Functions - ones\n",
        "print(\"1D\")\n",
        "one_array=np.ones(5)\n",
        "print(one_array)\n",
        "print(\"2D\")\n",
        "one_array2D=np.ones([5,5])\n",
        "print(one_array2D)"
      ],
      "execution_count": null,
      "outputs": [
        {
          "output_type": "stream",
          "text": [
            "1D\n",
            "[1. 1. 1. 1. 1.]\n",
            "2D\n",
            "[[1. 1. 1. 1. 1.]\n",
            " [1. 1. 1. 1. 1.]\n",
            " [1. 1. 1. 1. 1.]\n",
            " [1. 1. 1. 1. 1.]\n",
            " [1. 1. 1. 1. 1.]]\n"
          ],
          "name": "stdout"
        }
      ]
    },
    {
      "cell_type": "code",
      "metadata": {
        "colab": {
          "base_uri": "https://localhost:8080/"
        },
        "id": "H-oV8FhLdzdU",
        "outputId": "313b8b4a-4079-4c67-940a-8090cb634ef1"
      },
      "source": [
        "#Array creation and Initialization function - empty\n",
        "print(\"1D\")\n",
        "empty_array=np.empty(5)\n",
        "print(empty_array)\n",
        "print(\"2D\")\n",
        "empty_array2D=np.empty([5,5])\n",
        "print(empty_array2D)"
      ],
      "execution_count": null,
      "outputs": [
        {
          "output_type": "stream",
          "text": [
            "1D\n",
            "[1. 1. 1. 1. 1.]\n",
            "2D\n",
            "[[1. 1. 1. 1. 1.]\n",
            " [1. 1. 1. 1. 1.]\n",
            " [1. 1. 1. 1. 1.]\n",
            " [1. 1. 1. 1. 1.]\n",
            " [1. 1. 1. 1. 1.]]\n"
          ],
          "name": "stdout"
        }
      ]
    },
    {
      "cell_type": "code",
      "metadata": {
        "colab": {
          "base_uri": "https://localhost:8080/"
        },
        "id": "DObuFOEJfwqV",
        "outputId": "1254d5ed-0e12-4fb1-e5e7-c6b85bde419b"
      },
      "source": [
        "#Array creation and initialization function - eye\n",
        "Identity_Array=np.eye(3)\n",
        "print(Identity_Array)"
      ],
      "execution_count": null,
      "outputs": [
        {
          "output_type": "stream",
          "text": [
            "[[1. 0. 0.]\n",
            " [0. 1. 0.]\n",
            " [0. 0. 1.]]\n"
          ],
          "name": "stdout"
        }
      ]
    },
    {
      "cell_type": "code",
      "metadata": {
        "colab": {
          "base_uri": "https://localhost:8080/"
        },
        "id": "Jt7MDTENnrqC",
        "outputId": "7655d121-2e33-411f-89ca-0df0b599471a"
      },
      "source": [
        "#Array creation and initialization function - arange\n",
        "AP_array= np.arange(0,50,2)\n",
        "print(AP_array)"
      ],
      "execution_count": null,
      "outputs": [
        {
          "output_type": "stream",
          "text": [
            "[ 0  2  4  6  8 10 12 14 16 18 20 22 24 26 28 30 32 34 36 38 40 42 44 46\n",
            " 48]\n"
          ],
          "name": "stdout"
        }
      ]
    }
  ]
}