{
  "nbformat": 4,
  "nbformat_minor": 0,
  "metadata": {
    "colab": {
      "name": "Dropping entries in pandas series and dataframe.ipynb",
      "provenance": [],
      "authorship_tag": "ABX9TyNafnvlkkxPLsmWprjSj+xK",
      "include_colab_link": true
    },
    "kernelspec": {
      "name": "python3",
      "display_name": "Python 3"
    },
    "language_info": {
      "name": "python"
    }
  },
  "cells": [
    {
      "cell_type": "markdown",
      "metadata": {
        "id": "view-in-github",
        "colab_type": "text"
      },
      "source": [
        "<a href=\"https://colab.research.google.com/github/MadhurimaPaul-87/Python-Data-Analysis-and-Visualization-Bootcamp/blob/main/Dropping_entries_in_pandas_series_and_dataframe.ipynb\" target=\"_parent\"><img src=\"https://colab.research.google.com/assets/colab-badge.svg\" alt=\"Open In Colab\"/></a>"
      ]
    },
    {
      "cell_type": "code",
      "metadata": {
        "id": "MhtdDLBb8knW"
      },
      "source": [
        "import pandas as pd\n",
        "import numpy as np"
      ],
      "execution_count": 2,
      "outputs": []
    },
    {
      "cell_type": "code",
      "metadata": {
        "colab": {
          "base_uri": "https://localhost:8080/"
        },
        "id": "61G3QoczFo_C",
        "outputId": "e90aea68-1e5e-4727-d045-e90ceeeb13c1"
      },
      "source": [
        "#Drop values from series\n",
        "cars= pd.Series(['BMW','AUDI','MERCEDES'], index=['a','b','c'])\n",
        "cars"
      ],
      "execution_count": 3,
      "outputs": [
        {
          "output_type": "execute_result",
          "data": {
            "text/plain": [
              "a         BMW\n",
              "b        AUDI\n",
              "c    MERCEDES\n",
              "dtype: object"
            ]
          },
          "metadata": {
            "tags": []
          },
          "execution_count": 3
        }
      ]
    },
    {
      "cell_type": "code",
      "metadata": {
        "colab": {
          "base_uri": "https://localhost:8080/"
        },
        "id": "7JsxNB2UIqqC",
        "outputId": "00b2ccae-4650-4260-9884-74f9f78c0ba2"
      },
      "source": [
        "cars= cars.drop('a')\n",
        "cars"
      ],
      "execution_count": 4,
      "outputs": [
        {
          "output_type": "execute_result",
          "data": {
            "text/plain": [
              "b        AUDI\n",
              "c    MERCEDES\n",
              "dtype: object"
            ]
          },
          "metadata": {
            "tags": []
          },
          "execution_count": 4
        }
      ]
    },
    {
      "cell_type": "code",
      "metadata": {
        "id": "mmyRgz0IJW8q"
      },
      "source": [
        "#Drop rows from dataframe\n",
        "#Drop columns from dataframe\n",
        "cars_df= pd.DataFrame(np.random.randn(9).reshape(3,3),index=['BMW','AUDI','MERCEDES'], columns=['Test1','Test2','Test3'])"
      ],
      "execution_count": 5,
      "outputs": []
    },
    {
      "cell_type": "code",
      "metadata": {
        "colab": {
          "base_uri": "https://localhost:8080/",
          "height": 141
        },
        "id": "WWwk-y_YO5CL",
        "outputId": "c2132c30-9789-49a1-bbef-0563bd071bb9"
      },
      "source": [
        "cars_df"
      ],
      "execution_count": 6,
      "outputs": [
        {
          "output_type": "execute_result",
          "data": {
            "text/html": [
              "<div>\n",
              "<style scoped>\n",
              "    .dataframe tbody tr th:only-of-type {\n",
              "        vertical-align: middle;\n",
              "    }\n",
              "\n",
              "    .dataframe tbody tr th {\n",
              "        vertical-align: top;\n",
              "    }\n",
              "\n",
              "    .dataframe thead th {\n",
              "        text-align: right;\n",
              "    }\n",
              "</style>\n",
              "<table border=\"1\" class=\"dataframe\">\n",
              "  <thead>\n",
              "    <tr style=\"text-align: right;\">\n",
              "      <th></th>\n",
              "      <th>Test1</th>\n",
              "      <th>Test2</th>\n",
              "      <th>Test3</th>\n",
              "    </tr>\n",
              "  </thead>\n",
              "  <tbody>\n",
              "    <tr>\n",
              "      <th>BMW</th>\n",
              "      <td>0.768130</td>\n",
              "      <td>-0.135522</td>\n",
              "      <td>1.983646</td>\n",
              "    </tr>\n",
              "    <tr>\n",
              "      <th>AUDI</th>\n",
              "      <td>-0.243274</td>\n",
              "      <td>0.378927</td>\n",
              "      <td>1.956058</td>\n",
              "    </tr>\n",
              "    <tr>\n",
              "      <th>MERCEDES</th>\n",
              "      <td>0.369106</td>\n",
              "      <td>0.193669</td>\n",
              "      <td>0.608346</td>\n",
              "    </tr>\n",
              "  </tbody>\n",
              "</table>\n",
              "</div>"
            ],
            "text/plain": [
              "             Test1     Test2     Test3\n",
              "BMW       0.768130 -0.135522  1.983646\n",
              "AUDI     -0.243274  0.378927  1.956058\n",
              "MERCEDES  0.369106  0.193669  0.608346"
            ]
          },
          "metadata": {
            "tags": []
          },
          "execution_count": 6
        }
      ]
    },
    {
      "cell_type": "code",
      "metadata": {
        "colab": {
          "base_uri": "https://localhost:8080/",
          "height": 111
        },
        "id": "w1kRyIHrO6V-",
        "outputId": "e33c54f4-00ec-4fe6-b433-51b53fadaf58"
      },
      "source": [
        "cars_df= cars_df.drop('BMW')\n",
        "cars_df"
      ],
      "execution_count": 7,
      "outputs": [
        {
          "output_type": "execute_result",
          "data": {
            "text/html": [
              "<div>\n",
              "<style scoped>\n",
              "    .dataframe tbody tr th:only-of-type {\n",
              "        vertical-align: middle;\n",
              "    }\n",
              "\n",
              "    .dataframe tbody tr th {\n",
              "        vertical-align: top;\n",
              "    }\n",
              "\n",
              "    .dataframe thead th {\n",
              "        text-align: right;\n",
              "    }\n",
              "</style>\n",
              "<table border=\"1\" class=\"dataframe\">\n",
              "  <thead>\n",
              "    <tr style=\"text-align: right;\">\n",
              "      <th></th>\n",
              "      <th>Test1</th>\n",
              "      <th>Test2</th>\n",
              "      <th>Test3</th>\n",
              "    </tr>\n",
              "  </thead>\n",
              "  <tbody>\n",
              "    <tr>\n",
              "      <th>AUDI</th>\n",
              "      <td>-0.243274</td>\n",
              "      <td>0.378927</td>\n",
              "      <td>1.956058</td>\n",
              "    </tr>\n",
              "    <tr>\n",
              "      <th>MERCEDES</th>\n",
              "      <td>0.369106</td>\n",
              "      <td>0.193669</td>\n",
              "      <td>0.608346</td>\n",
              "    </tr>\n",
              "  </tbody>\n",
              "</table>\n",
              "</div>"
            ],
            "text/plain": [
              "             Test1     Test2     Test3\n",
              "AUDI     -0.243274  0.378927  1.956058\n",
              "MERCEDES  0.369106  0.193669  0.608346"
            ]
          },
          "metadata": {
            "tags": []
          },
          "execution_count": 7
        }
      ]
    },
    {
      "cell_type": "code",
      "metadata": {
        "colab": {
          "base_uri": "https://localhost:8080/",
          "height": 111
        },
        "id": "y4f4UwT0Pfga",
        "outputId": "7945319e-8d13-4abc-f311-b942c01d35a1"
      },
      "source": [
        "cars_df= cars_df.drop(\"Test1\",axis=1)\n",
        "cars_df"
      ],
      "execution_count": 8,
      "outputs": [
        {
          "output_type": "execute_result",
          "data": {
            "text/html": [
              "<div>\n",
              "<style scoped>\n",
              "    .dataframe tbody tr th:only-of-type {\n",
              "        vertical-align: middle;\n",
              "    }\n",
              "\n",
              "    .dataframe tbody tr th {\n",
              "        vertical-align: top;\n",
              "    }\n",
              "\n",
              "    .dataframe thead th {\n",
              "        text-align: right;\n",
              "    }\n",
              "</style>\n",
              "<table border=\"1\" class=\"dataframe\">\n",
              "  <thead>\n",
              "    <tr style=\"text-align: right;\">\n",
              "      <th></th>\n",
              "      <th>Test2</th>\n",
              "      <th>Test3</th>\n",
              "    </tr>\n",
              "  </thead>\n",
              "  <tbody>\n",
              "    <tr>\n",
              "      <th>AUDI</th>\n",
              "      <td>0.378927</td>\n",
              "      <td>1.956058</td>\n",
              "    </tr>\n",
              "    <tr>\n",
              "      <th>MERCEDES</th>\n",
              "      <td>0.193669</td>\n",
              "      <td>0.608346</td>\n",
              "    </tr>\n",
              "  </tbody>\n",
              "</table>\n",
              "</div>"
            ],
            "text/plain": [
              "             Test2     Test3\n",
              "AUDI      0.378927  1.956058\n",
              "MERCEDES  0.193669  0.608346"
            ]
          },
          "metadata": {
            "tags": []
          },
          "execution_count": 8
        }
      ]
    }
  ]
}