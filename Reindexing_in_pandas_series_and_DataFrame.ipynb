{
  "nbformat": 4,
  "nbformat_minor": 0,
  "metadata": {
    "colab": {
      "name": "Reindexing in pandas series and DataFrame.ipynb",
      "provenance": [],
      "authorship_tag": "ABX9TyPS+CuLYuXaI+bxTXJtFJIu",
      "include_colab_link": true
    },
    "kernelspec": {
      "name": "python3",
      "display_name": "Python 3"
    },
    "language_info": {
      "name": "python"
    }
  },
  "cells": [
    {
      "cell_type": "markdown",
      "metadata": {
        "id": "view-in-github",
        "colab_type": "text"
      },
      "source": [
        "<a href=\"https://colab.research.google.com/github/MadhurimaPaul-87/Python-Data-Analysis-and-Visualization-Bootcamp/blob/main/Reindexing_in_pandas_series_and_DataFrame.ipynb\" target=\"_parent\"><img src=\"https://colab.research.google.com/assets/colab-badge.svg\" alt=\"Open In Colab\"/></a>"
      ]
    },
    {
      "cell_type": "code",
      "metadata": {
        "id": "4mZRW_hefm3J"
      },
      "source": [
        "import numpy as np\n",
        "import pandas as pd"
      ],
      "execution_count": null,
      "outputs": []
    },
    {
      "cell_type": "code",
      "metadata": {
        "colab": {
          "base_uri": "https://localhost:8080/"
        },
        "id": "_Gn2bt1Vf5QF",
        "outputId": "5fef637d-ee31-41ba-e017-b428da210063"
      },
      "source": [
        "s1= pd.Series([1,2,3,4],index=['a','b','c','d'])\n",
        "print(s1)"
      ],
      "execution_count": null,
      "outputs": [
        {
          "output_type": "stream",
          "text": [
            "a    1\n",
            "b    2\n",
            "c    3\n",
            "d    4\n",
            "dtype: int64\n"
          ],
          "name": "stdout"
        }
      ]
    },
    {
      "cell_type": "code",
      "metadata": {
        "colab": {
          "base_uri": "https://localhost:8080/"
        },
        "id": "Bh70hvx1Ee1B",
        "outputId": "22d41072-c720-42d4-cf3f-65c301463f36"
      },
      "source": [
        "s1=s1.reindex(['a','b','c','d','e','f'])\n",
        "print(s1)"
      ],
      "execution_count": null,
      "outputs": [
        {
          "output_type": "stream",
          "text": [
            "a    1.0\n",
            "b    2.0\n",
            "c    3.0\n",
            "d    4.0\n",
            "e    NaN\n",
            "f    NaN\n",
            "dtype: float64\n"
          ],
          "name": "stdout"
        }
      ]
    },
    {
      "cell_type": "code",
      "metadata": {
        "colab": {
          "base_uri": "https://localhost:8080/"
        },
        "id": "OekEgpSSFowQ",
        "outputId": "48fa3b57-3abb-460e-cff0-94e001596474"
      },
      "source": [
        "#reindex() method with fill_value\n",
        "s1=s1.reindex(['a','b','c','d','e','f','g'],fill_value=100)\n",
        "print(s1)"
      ],
      "execution_count": null,
      "outputs": [
        {
          "output_type": "stream",
          "text": [
            "a      1.0\n",
            "b      2.0\n",
            "c      3.0\n",
            "d      4.0\n",
            "e      NaN\n",
            "f      NaN\n",
            "g    100.0\n",
            "dtype: float64\n"
          ],
          "name": "stdout"
        }
      ]
    },
    {
      "cell_type": "code",
      "metadata": {
        "colab": {
          "base_uri": "https://localhost:8080/"
        },
        "id": "pBnXvO7zH-Lb",
        "outputId": "012c701a-3462-4734-ff26-200d164fc160"
      },
      "source": [
        "#reindexing in series-forward fill\n",
        "cars= pd.Series(['Audi','Mercedes','BMW'],index=[0,4,8])\n",
        "print(cars)"
      ],
      "execution_count": null,
      "outputs": [
        {
          "output_type": "stream",
          "text": [
            "0        Audi\n",
            "4    Mercedes\n",
            "8         BMW\n",
            "dtype: object\n"
          ],
          "name": "stdout"
        }
      ]
    },
    {
      "cell_type": "code",
      "metadata": {
        "colab": {
          "base_uri": "https://localhost:8080/"
        },
        "id": "K8oJl0K2Moqi",
        "outputId": "42e2de4b-68cb-47f6-c218-a5235f1bab4c"
      },
      "source": [
        "cars=cars.reindex(range(12),method=\"ffill\")\n",
        "cars"
      ],
      "execution_count": null,
      "outputs": [
        {
          "output_type": "execute_result",
          "data": {
            "text/plain": [
              "0         Audi\n",
              "1         Audi\n",
              "2         Audi\n",
              "3         Audi\n",
              "4     Mercedes\n",
              "5     Mercedes\n",
              "6     Mercedes\n",
              "7     Mercedes\n",
              "8          BMW\n",
              "9          BMW\n",
              "10         BMW\n",
              "11         BMW\n",
              "dtype: object"
            ]
          },
          "metadata": {
            "tags": []
          },
          "execution_count": 7
        }
      ]
    },
    {
      "cell_type": "code",
      "metadata": {
        "colab": {
          "base_uri": "https://localhost:8080/",
          "height": 204
        },
        "id": "hILmsQ1khdgd",
        "outputId": "8fc70692-ebef-4711-d95e-39f9140042ff"
      },
      "source": [
        "#Reindexing in DataFrame\n",
        "df1 = pd.DataFrame(np.random.randn(25).reshape(5,5),index=['a','b','c','d','e'],columns=['c1','c2','c3','c4','c5'])\n",
        "df1"
      ],
      "execution_count": null,
      "outputs": [
        {
          "output_type": "execute_result",
          "data": {
            "text/html": [
              "<div>\n",
              "<style scoped>\n",
              "    .dataframe tbody tr th:only-of-type {\n",
              "        vertical-align: middle;\n",
              "    }\n",
              "\n",
              "    .dataframe tbody tr th {\n",
              "        vertical-align: top;\n",
              "    }\n",
              "\n",
              "    .dataframe thead th {\n",
              "        text-align: right;\n",
              "    }\n",
              "</style>\n",
              "<table border=\"1\" class=\"dataframe\">\n",
              "  <thead>\n",
              "    <tr style=\"text-align: right;\">\n",
              "      <th></th>\n",
              "      <th>c1</th>\n",
              "      <th>c2</th>\n",
              "      <th>c3</th>\n",
              "      <th>c4</th>\n",
              "      <th>c5</th>\n",
              "    </tr>\n",
              "  </thead>\n",
              "  <tbody>\n",
              "    <tr>\n",
              "      <th>a</th>\n",
              "      <td>-0.122855</td>\n",
              "      <td>-1.212810</td>\n",
              "      <td>1.134522</td>\n",
              "      <td>0.789319</td>\n",
              "      <td>-0.571235</td>\n",
              "    </tr>\n",
              "    <tr>\n",
              "      <th>b</th>\n",
              "      <td>-0.493285</td>\n",
              "      <td>-0.306371</td>\n",
              "      <td>0.395247</td>\n",
              "      <td>1.949834</td>\n",
              "      <td>0.992984</td>\n",
              "    </tr>\n",
              "    <tr>\n",
              "      <th>c</th>\n",
              "      <td>0.666571</td>\n",
              "      <td>0.622809</td>\n",
              "      <td>-0.953037</td>\n",
              "      <td>0.726614</td>\n",
              "      <td>0.670585</td>\n",
              "    </tr>\n",
              "    <tr>\n",
              "      <th>d</th>\n",
              "      <td>-0.305919</td>\n",
              "      <td>1.272433</td>\n",
              "      <td>-0.596674</td>\n",
              "      <td>1.414731</td>\n",
              "      <td>-1.103659</td>\n",
              "    </tr>\n",
              "    <tr>\n",
              "      <th>e</th>\n",
              "      <td>1.589121</td>\n",
              "      <td>1.463060</td>\n",
              "      <td>0.770818</td>\n",
              "      <td>0.039862</td>\n",
              "      <td>-1.914888</td>\n",
              "    </tr>\n",
              "  </tbody>\n",
              "</table>\n",
              "</div>"
            ],
            "text/plain": [
              "         c1        c2        c3        c4        c5\n",
              "a -0.122855 -1.212810  1.134522  0.789319 -0.571235\n",
              "b -0.493285 -0.306371  0.395247  1.949834  0.992984\n",
              "c  0.666571  0.622809 -0.953037  0.726614  0.670585\n",
              "d -0.305919  1.272433 -0.596674  1.414731 -1.103659\n",
              "e  1.589121  1.463060  0.770818  0.039862 -1.914888"
            ]
          },
          "metadata": {
            "tags": []
          },
          "execution_count": 9
        }
      ]
    },
    {
      "cell_type": "code",
      "metadata": {
        "colab": {
          "base_uri": "https://localhost:8080/",
          "height": 235
        },
        "id": "_KBHQe8XwpLl",
        "outputId": "4e415f98-0fc0-4073-c856-cd77f4420b2a"
      },
      "source": [
        "df1=df1.reindex(index=['a','b','c','d','e','f'],columns=['c1','c2','c3','c4','c5','c6'])\n",
        "df1"
      ],
      "execution_count": null,
      "outputs": [
        {
          "output_type": "execute_result",
          "data": {
            "text/html": [
              "<div>\n",
              "<style scoped>\n",
              "    .dataframe tbody tr th:only-of-type {\n",
              "        vertical-align: middle;\n",
              "    }\n",
              "\n",
              "    .dataframe tbody tr th {\n",
              "        vertical-align: top;\n",
              "    }\n",
              "\n",
              "    .dataframe thead th {\n",
              "        text-align: right;\n",
              "    }\n",
              "</style>\n",
              "<table border=\"1\" class=\"dataframe\">\n",
              "  <thead>\n",
              "    <tr style=\"text-align: right;\">\n",
              "      <th></th>\n",
              "      <th>c1</th>\n",
              "      <th>c2</th>\n",
              "      <th>c3</th>\n",
              "      <th>c4</th>\n",
              "      <th>c5</th>\n",
              "      <th>c6</th>\n",
              "    </tr>\n",
              "  </thead>\n",
              "  <tbody>\n",
              "    <tr>\n",
              "      <th>a</th>\n",
              "      <td>-0.122855</td>\n",
              "      <td>-1.212810</td>\n",
              "      <td>1.134522</td>\n",
              "      <td>0.789319</td>\n",
              "      <td>-0.571235</td>\n",
              "      <td>NaN</td>\n",
              "    </tr>\n",
              "    <tr>\n",
              "      <th>b</th>\n",
              "      <td>-0.493285</td>\n",
              "      <td>-0.306371</td>\n",
              "      <td>0.395247</td>\n",
              "      <td>1.949834</td>\n",
              "      <td>0.992984</td>\n",
              "      <td>NaN</td>\n",
              "    </tr>\n",
              "    <tr>\n",
              "      <th>c</th>\n",
              "      <td>0.666571</td>\n",
              "      <td>0.622809</td>\n",
              "      <td>-0.953037</td>\n",
              "      <td>0.726614</td>\n",
              "      <td>0.670585</td>\n",
              "      <td>NaN</td>\n",
              "    </tr>\n",
              "    <tr>\n",
              "      <th>d</th>\n",
              "      <td>-0.305919</td>\n",
              "      <td>1.272433</td>\n",
              "      <td>-0.596674</td>\n",
              "      <td>1.414731</td>\n",
              "      <td>-1.103659</td>\n",
              "      <td>NaN</td>\n",
              "    </tr>\n",
              "    <tr>\n",
              "      <th>e</th>\n",
              "      <td>1.589121</td>\n",
              "      <td>1.463060</td>\n",
              "      <td>0.770818</td>\n",
              "      <td>0.039862</td>\n",
              "      <td>-1.914888</td>\n",
              "      <td>NaN</td>\n",
              "    </tr>\n",
              "    <tr>\n",
              "      <th>f</th>\n",
              "      <td>NaN</td>\n",
              "      <td>NaN</td>\n",
              "      <td>NaN</td>\n",
              "      <td>NaN</td>\n",
              "      <td>NaN</td>\n",
              "      <td>NaN</td>\n",
              "    </tr>\n",
              "  </tbody>\n",
              "</table>\n",
              "</div>"
            ],
            "text/plain": [
              "         c1        c2        c3        c4        c5  c6\n",
              "a -0.122855 -1.212810  1.134522  0.789319 -0.571235 NaN\n",
              "b -0.493285 -0.306371  0.395247  1.949834  0.992984 NaN\n",
              "c  0.666571  0.622809 -0.953037  0.726614  0.670585 NaN\n",
              "d -0.305919  1.272433 -0.596674  1.414731 -1.103659 NaN\n",
              "e  1.589121  1.463060  0.770818  0.039862 -1.914888 NaN\n",
              "f       NaN       NaN       NaN       NaN       NaN NaN"
            ]
          },
          "metadata": {
            "tags": []
          },
          "execution_count": 10
        }
      ]
    },
    {
      "cell_type": "code",
      "metadata": {
        "id": "oYByw2-1xoFo"
      },
      "source": [
        ""
      ],
      "execution_count": null,
      "outputs": []
    }
  ]
}