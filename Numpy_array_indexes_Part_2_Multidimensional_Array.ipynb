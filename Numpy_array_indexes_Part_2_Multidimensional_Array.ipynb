{
  "nbformat": 4,
  "nbformat_minor": 0,
  "metadata": {
    "colab": {
      "name": "Numpy array indexes Part 2-Multidimensional Array.ipynb",
      "provenance": [],
      "authorship_tag": "ABX9TyMxipvWmSB5ujsY/5MVFO9N",
      "include_colab_link": true
    },
    "kernelspec": {
      "name": "python3",
      "display_name": "Python 3"
    },
    "language_info": {
      "name": "python"
    }
  },
  "cells": [
    {
      "cell_type": "markdown",
      "metadata": {
        "id": "view-in-github",
        "colab_type": "text"
      },
      "source": [
        "<a href=\"https://colab.research.google.com/github/MadhurimaPaul-87/Python-Data-Analysis-and-Visualization-Bootcamp/blob/main/Numpy_array_indexes_Part_2_Multidimensional_Array.ipynb\" target=\"_parent\"><img src=\"https://colab.research.google.com/assets/colab-badge.svg\" alt=\"Open In Colab\"/></a>"
      ]
    },
    {
      "cell_type": "code",
      "metadata": {
        "id": "JFQfwaEBx-tf"
      },
      "source": [
        "import numpy as np"
      ],
      "execution_count": 1,
      "outputs": []
    },
    {
      "cell_type": "code",
      "metadata": {
        "colab": {
          "base_uri": "https://localhost:8080/"
        },
        "id": "UJ1HckXvyWjZ",
        "outputId": "67da5647-59ff-4010-aa53-7833dfb73866"
      },
      "source": [
        "arr2d=np.array([[1,2,3],[4,5,6],[7,8,9]])\n",
        "print(arr2d)"
      ],
      "execution_count": 2,
      "outputs": [
        {
          "output_type": "stream",
          "text": [
            "[[1 2 3]\n",
            " [4 5 6]\n",
            " [7 8 9]]\n"
          ],
          "name": "stdout"
        }
      ]
    },
    {
      "cell_type": "code",
      "metadata": {
        "colab": {
          "base_uri": "https://localhost:8080/"
        },
        "id": "hjrn1rVBy8R2",
        "outputId": "823a45f8-3e7d-4046-db9b-78da3b849628"
      },
      "source": [
        "#Accessing rows\n",
        "print(arr2d[0])\n",
        "print(arr2d[1])"
      ],
      "execution_count": 3,
      "outputs": [
        {
          "output_type": "stream",
          "text": [
            "[1 2 3]\n",
            "[4 5 6]\n"
          ],
          "name": "stdout"
        }
      ]
    },
    {
      "cell_type": "code",
      "metadata": {
        "colab": {
          "base_uri": "https://localhost:8080/"
        },
        "id": "pRnY55fOzwow",
        "outputId": "f6b2aa69-e90e-48ed-a0f6-c0801c21cfc5"
      },
      "source": [
        "#Accessing elements of array\n",
        "print(arr2d[0][0])"
      ],
      "execution_count": 4,
      "outputs": [
        {
          "output_type": "stream",
          "text": [
            "1\n"
          ],
          "name": "stdout"
        }
      ]
    },
    {
      "cell_type": "code",
      "metadata": {
        "colab": {
          "base_uri": "https://localhost:8080/"
        },
        "id": "XFu7JtGI1_Ai",
        "outputId": "a59a1c63-11b8-4809-9c28-205f57f3600c"
      },
      "source": [
        "print(arr2d[1][2])"
      ],
      "execution_count": 5,
      "outputs": [
        {
          "output_type": "stream",
          "text": [
            "6\n"
          ],
          "name": "stdout"
        }
      ]
    },
    {
      "cell_type": "code",
      "metadata": {
        "colab": {
          "base_uri": "https://localhost:8080/"
        },
        "id": "kSZtV6fR2LIp",
        "outputId": "7d9bdb43-b9df-463a-de89-6973e36fa222"
      },
      "source": [
        "#slicing in 2D arrays\n",
        "slice1= arr2d[0:1,0:2]\n",
        "print(slice1)"
      ],
      "execution_count": 6,
      "outputs": [
        {
          "output_type": "stream",
          "text": [
            "[[1 2]]\n"
          ],
          "name": "stdout"
        }
      ]
    },
    {
      "cell_type": "code",
      "metadata": {
        "colab": {
          "base_uri": "https://localhost:8080/"
        },
        "id": "8QIjlv_w27H3",
        "outputId": "0e6c5d09-4164-41a5-ffb0-1c5aa2ad8904"
      },
      "source": [
        "slice2=arr2d[0:2,0:3]\n",
        "print(slice2)"
      ],
      "execution_count": 7,
      "outputs": [
        {
          "output_type": "stream",
          "text": [
            "[[1 2 3]\n",
            " [4 5 6]]\n"
          ],
          "name": "stdout"
        }
      ]
    },
    {
      "cell_type": "code",
      "metadata": {
        "colab": {
          "base_uri": "https://localhost:8080/"
        },
        "id": "c8FHudZn3nNn",
        "outputId": "5f66ee39-2451-48b7-a081-f9acaaf5a655"
      },
      "source": [
        "slice3=arr2d[:2,:3]\n",
        "print(slice3)"
      ],
      "execution_count": 8,
      "outputs": [
        {
          "output_type": "stream",
          "text": [
            "[[1 2 3]\n",
            " [4 5 6]]\n"
          ],
          "name": "stdout"
        }
      ]
    },
    {
      "cell_type": "code",
      "metadata": {
        "colab": {
          "base_uri": "https://localhost:8080/"
        },
        "id": "XdTCrZdE6QIi",
        "outputId": "f259565f-e9df-4ad6-e90a-489d7e3ff83b"
      },
      "source": [
        "slice4=arr2d[1:,2:]\n",
        "print(slice4)"
      ],
      "execution_count": 9,
      "outputs": [
        {
          "output_type": "stream",
          "text": [
            "[[6]\n",
            " [9]]\n"
          ],
          "name": "stdout"
        }
      ]
    },
    {
      "cell_type": "code",
      "metadata": {
        "colab": {
          "base_uri": "https://localhost:8080/"
        },
        "id": "YUwgUa4d7D_L",
        "outputId": "941730e3-f8c8-4a71-b637-893c27f348c7"
      },
      "source": [
        "#using loops to change index\n",
        "arr_len=arr2d.shape\n",
        "print(arr_len)"
      ],
      "execution_count": 10,
      "outputs": [
        {
          "output_type": "stream",
          "text": [
            "(3, 3)\n"
          ],
          "name": "stdout"
        }
      ]
    },
    {
      "cell_type": "code",
      "metadata": {
        "colab": {
          "base_uri": "https://localhost:8080/"
        },
        "id": "RVtsLzfr7uAc",
        "outputId": "b83c87d4-4e5c-4fe6-9852-8b44aa7056c2"
      },
      "source": [
        "nrows=arr_len[0]\n",
        "print(nrows)"
      ],
      "execution_count": 11,
      "outputs": [
        {
          "output_type": "stream",
          "text": [
            "3\n"
          ],
          "name": "stdout"
        }
      ]
    },
    {
      "cell_type": "code",
      "metadata": {
        "colab": {
          "base_uri": "https://localhost:8080/"
        },
        "id": "08fi293H74X8",
        "outputId": "56e1ceab-bbf3-40a6-f958-26cd7d30f720"
      },
      "source": [
        "for i in range(nrows):\n",
        "  arr2d[i][0]=i\n",
        "print(arr2d)"
      ],
      "execution_count": 12,
      "outputs": [
        {
          "output_type": "stream",
          "text": [
            "[[0 2 3]\n",
            " [1 5 6]\n",
            " [2 8 9]]\n"
          ],
          "name": "stdout"
        }
      ]
    },
    {
      "cell_type": "code",
      "metadata": {
        "colab": {
          "base_uri": "https://localhost:8080/"
        },
        "id": "sh92vQVwDntW",
        "outputId": "822bee6e-4e76-435d-c3d1-74fc24b127d9"
      },
      "source": [
        "#Accessing rows using list of index values\n",
        "print(arr2d[[0,1]])"
      ],
      "execution_count": 13,
      "outputs": [
        {
          "output_type": "stream",
          "text": [
            "[[0 2 3]\n",
            " [1 5 6]]\n"
          ],
          "name": "stdout"
        }
      ]
    },
    {
      "cell_type": "code",
      "metadata": {
        "colab": {
          "base_uri": "https://localhost:8080/"
        },
        "id": "UGzhJP9hEX1P",
        "outputId": "53157735-a96d-4e14-a2f5-11e79cada5c6"
      },
      "source": [
        "print(arr2d[[1,0]])"
      ],
      "execution_count": 14,
      "outputs": [
        {
          "output_type": "stream",
          "text": [
            "[[1 5 6]\n",
            " [0 2 3]]\n"
          ],
          "name": "stdout"
        }
      ]
    },
    {
      "cell_type": "code",
      "metadata": {
        "id": "8saXYAfYEdoi"
      },
      "source": [
        ""
      ],
      "execution_count": null,
      "outputs": []
    }
  ]
}