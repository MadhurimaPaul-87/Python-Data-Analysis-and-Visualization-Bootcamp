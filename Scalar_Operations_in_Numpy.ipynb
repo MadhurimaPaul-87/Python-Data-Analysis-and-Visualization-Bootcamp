{
  "nbformat": 4,
  "nbformat_minor": 0,
  "metadata": {
    "colab": {
      "name": "Scalar Operations in Numpy.ipynb",
      "provenance": [],
      "authorship_tag": "ABX9TyOypEuIInjikUQMFVE1HViy",
      "include_colab_link": true
    },
    "kernelspec": {
      "name": "python3",
      "display_name": "Python 3"
    },
    "language_info": {
      "name": "python"
    },
    "accelerator": "TPU"
  },
  "cells": [
    {
      "cell_type": "markdown",
      "metadata": {
        "id": "view-in-github",
        "colab_type": "text"
      },
      "source": [
        "<a href=\"https://colab.research.google.com/github/MadhurimaPaul-87/Python-Data-Analysis-and-Visualization-Bootcamp/blob/main/Scalar_Operations_in_Numpy.ipynb\" target=\"_parent\"><img src=\"https://colab.research.google.com/assets/colab-badge.svg\" alt=\"Open In Colab\"/></a>"
      ]
    },
    {
      "cell_type": "code",
      "metadata": {
        "id": "hW7rhyzSfZMd"
      },
      "source": [
        "import numpy as np"
      ],
      "execution_count": null,
      "outputs": []
    },
    {
      "cell_type": "code",
      "metadata": {
        "colab": {
          "base_uri": "https://localhost:8080/"
        },
        "id": "ss8gj4I5fbMo",
        "outputId": "b73a1e53-3af5-4d52-86e2-4ab003ff6b14"
      },
      "source": [
        "# Scalar array multiplication - using * operator\n",
        "arr1=np.array([[1,2,3],[5,6,7]])\n",
        "print(arr1)"
      ],
      "execution_count": null,
      "outputs": [
        {
          "output_type": "stream",
          "text": [
            "[[1 2 3]\n",
            " [5 6 7]]\n"
          ],
          "name": "stdout"
        }
      ]
    },
    {
      "cell_type": "code",
      "metadata": {
        "colab": {
          "base_uri": "https://localhost:8080/"
        },
        "id": "u55FlX6rgdcs",
        "outputId": "60f68b02-7ea0-49c9-a339-a51bfdffad74"
      },
      "source": [
        "arr2= arr1*arr1\n",
        "print(arr2)"
      ],
      "execution_count": null,
      "outputs": [
        {
          "output_type": "stream",
          "text": [
            "[[ 1  4  9]\n",
            " [25 36 49]]\n"
          ],
          "name": "stdout"
        }
      ]
    },
    {
      "cell_type": "code",
      "metadata": {
        "colab": {
          "base_uri": "https://localhost:8080/"
        },
        "id": "ZL-m0U2Bgui7",
        "outputId": "36581cad-031e-4b35-806a-12f6a621faa3"
      },
      "source": [
        "#Exponential multiplication - using ** operator\n",
        "arr3= arr1 ** 3\n",
        "print(arr3)"
      ],
      "execution_count": null,
      "outputs": [
        {
          "output_type": "stream",
          "text": [
            "[[  1   8  27]\n",
            " [125 216 343]]\n"
          ],
          "name": "stdout"
        }
      ]
    },
    {
      "cell_type": "code",
      "metadata": {
        "colab": {
          "base_uri": "https://localhost:8080/"
        },
        "id": "H17vRzyHhuTV",
        "outputId": "fb2a7830-f3c8-42cd-a5cc-ce34ea36300e"
      },
      "source": [
        "#Scalar subtraction of array elements\n",
        "arr4= arr3-arr1\n",
        "print(arr4)"
      ],
      "execution_count": null,
      "outputs": [
        {
          "output_type": "stream",
          "text": [
            "[[  0   6  24]\n",
            " [120 210 336]]\n"
          ],
          "name": "stdout"
        }
      ]
    },
    {
      "cell_type": "code",
      "metadata": {
        "colab": {
          "base_uri": "https://localhost:8080/"
        },
        "id": "4mkIueh4iAmG",
        "outputId": "89e34aa6-6670-4955-ee97-a5fd7a9ab6a5"
      },
      "source": [
        "#scalar Division of array elements\n",
        "arr5= 1/arr1\n",
        "print(arr5)"
      ],
      "execution_count": null,
      "outputs": [
        {
          "output_type": "stream",
          "text": [
            "[[1.         0.5        0.33333333]\n",
            " [0.2        0.16666667 0.14285714]]\n"
          ],
          "name": "stdout"
        }
      ]
    }
  ]
}