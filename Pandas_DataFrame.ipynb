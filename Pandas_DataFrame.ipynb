{
  "nbformat": 4,
  "nbformat_minor": 0,
  "metadata": {
    "colab": {
      "name": "Pandas DataFrame.ipynb",
      "provenance": [],
      "authorship_tag": "ABX9TyMGQ8T05xhD8RFSAPx/lLsw",
      "include_colab_link": true
    },
    "kernelspec": {
      "name": "python3",
      "display_name": "Python 3"
    },
    "language_info": {
      "name": "python"
    }
  },
  "cells": [
    {
      "cell_type": "markdown",
      "metadata": {
        "id": "view-in-github",
        "colab_type": "text"
      },
      "source": [
        "<a href=\"https://colab.research.google.com/github/MadhurimaPaul-87/Python-Data-Analysis-and-Visualization-Bootcamp/blob/main/Pandas_DataFrame.ipynb\" target=\"_parent\"><img src=\"https://colab.research.google.com/assets/colab-badge.svg\" alt=\"Open In Colab\"/></a>"
      ]
    },
    {
      "cell_type": "code",
      "metadata": {
        "id": "oRgk-Hk3RZFL"
      },
      "source": [
        "import numpy as np\n",
        "import pandas as pd"
      ],
      "execution_count": 1,
      "outputs": []
    },
    {
      "cell_type": "code",
      "metadata": {
        "id": "2mgJF1TzRnhq"
      },
      "source": [
        "#create a dataframe from clipboard cannot be done in colab(cloud)\n",
        "data={'First name':['Tinu','Marek','Lily','Olatunkbo','Adrienne','Axelia','Jon-Kabat','Thabang','Kgaogelo'],'Last name':['Elejogun','Kostrzewski','McGarrett','Chijiaku','Anthoula','Athanasios','Zinn','Mosoa','Mosoa'],'Age':['14','25','18','22','22','22','22','15','11']}"
      ],
      "execution_count": 2,
      "outputs": []
    },
    {
      "cell_type": "code",
      "metadata": {
        "colab": {
          "base_uri": "https://localhost:8080/"
        },
        "id": "JxX6EmGUX0RH",
        "outputId": "c7d4b795-3141-4368-a26b-7a9f169d186c"
      },
      "source": [
        "age_df = pd.DataFrame.from_dict(data)\n",
        "print(age_df)"
      ],
      "execution_count": 3,
      "outputs": [
        {
          "output_type": "stream",
          "text": [
            "  First name    Last name Age\n",
            "0       Tinu     Elejogun  14\n",
            "1      Marek  Kostrzewski  25\n",
            "2       Lily    McGarrett  18\n",
            "3  Olatunkbo     Chijiaku  22\n",
            "4   Adrienne     Anthoula  22\n",
            "5     Axelia   Athanasios  22\n",
            "6  Jon-Kabat         Zinn  22\n",
            "7    Thabang        Mosoa  15\n",
            "8   Kgaogelo        Mosoa  11\n"
          ],
          "name": "stdout"
        }
      ]
    },
    {
      "cell_type": "code",
      "metadata": {
        "colab": {
          "base_uri": "https://localhost:8080/"
        },
        "id": "3Vl1DU9aYXxV",
        "outputId": "a83697b1-0e8c-46b7-d4f8-376278103505"
      },
      "source": [
        "#Display column names\n",
        "age_df.columns"
      ],
      "execution_count": 4,
      "outputs": [
        {
          "output_type": "execute_result",
          "data": {
            "text/plain": [
              "Index(['First name', 'Last name', 'Age'], dtype='object')"
            ]
          },
          "metadata": {
            "tags": []
          },
          "execution_count": 4
        }
      ]
    },
    {
      "cell_type": "code",
      "metadata": {
        "colab": {
          "base_uri": "https://localhost:8080/"
        },
        "id": "EkDBZVueYl8D",
        "outputId": "94d7c242-81c3-412c-ee40-5cd412c56c6b"
      },
      "source": [
        "#Access one or more columns\n",
        "age_df['First name']"
      ],
      "execution_count": 5,
      "outputs": [
        {
          "output_type": "execute_result",
          "data": {
            "text/plain": [
              "0         Tinu\n",
              "1        Marek\n",
              "2         Lily\n",
              "3    Olatunkbo\n",
              "4     Adrienne\n",
              "5       Axelia\n",
              "6    Jon-Kabat\n",
              "7      Thabang\n",
              "8     Kgaogelo\n",
              "Name: First name, dtype: object"
            ]
          },
          "metadata": {
            "tags": []
          },
          "execution_count": 5
        }
      ]
    },
    {
      "cell_type": "code",
      "metadata": {
        "colab": {
          "base_uri": "https://localhost:8080/",
          "height": 327
        },
        "id": "x7ev82BMJQji",
        "outputId": "f6dcdc1b-fdae-4b02-8b65-a5e1d5af8ec1"
      },
      "source": [
        "age_df[['First name','Age']]"
      ],
      "execution_count": 6,
      "outputs": [
        {
          "output_type": "execute_result",
          "data": {
            "text/html": [
              "<div>\n",
              "<style scoped>\n",
              "    .dataframe tbody tr th:only-of-type {\n",
              "        vertical-align: middle;\n",
              "    }\n",
              "\n",
              "    .dataframe tbody tr th {\n",
              "        vertical-align: top;\n",
              "    }\n",
              "\n",
              "    .dataframe thead th {\n",
              "        text-align: right;\n",
              "    }\n",
              "</style>\n",
              "<table border=\"1\" class=\"dataframe\">\n",
              "  <thead>\n",
              "    <tr style=\"text-align: right;\">\n",
              "      <th></th>\n",
              "      <th>First name</th>\n",
              "      <th>Age</th>\n",
              "    </tr>\n",
              "  </thead>\n",
              "  <tbody>\n",
              "    <tr>\n",
              "      <th>0</th>\n",
              "      <td>Tinu</td>\n",
              "      <td>14</td>\n",
              "    </tr>\n",
              "    <tr>\n",
              "      <th>1</th>\n",
              "      <td>Marek</td>\n",
              "      <td>25</td>\n",
              "    </tr>\n",
              "    <tr>\n",
              "      <th>2</th>\n",
              "      <td>Lily</td>\n",
              "      <td>18</td>\n",
              "    </tr>\n",
              "    <tr>\n",
              "      <th>3</th>\n",
              "      <td>Olatunkbo</td>\n",
              "      <td>22</td>\n",
              "    </tr>\n",
              "    <tr>\n",
              "      <th>4</th>\n",
              "      <td>Adrienne</td>\n",
              "      <td>22</td>\n",
              "    </tr>\n",
              "    <tr>\n",
              "      <th>5</th>\n",
              "      <td>Axelia</td>\n",
              "      <td>22</td>\n",
              "    </tr>\n",
              "    <tr>\n",
              "      <th>6</th>\n",
              "      <td>Jon-Kabat</td>\n",
              "      <td>22</td>\n",
              "    </tr>\n",
              "    <tr>\n",
              "      <th>7</th>\n",
              "      <td>Thabang</td>\n",
              "      <td>15</td>\n",
              "    </tr>\n",
              "    <tr>\n",
              "      <th>8</th>\n",
              "      <td>Kgaogelo</td>\n",
              "      <td>11</td>\n",
              "    </tr>\n",
              "  </tbody>\n",
              "</table>\n",
              "</div>"
            ],
            "text/plain": [
              "  First name Age\n",
              "0       Tinu  14\n",
              "1      Marek  25\n",
              "2       Lily  18\n",
              "3  Olatunkbo  22\n",
              "4   Adrienne  22\n",
              "5     Axelia  22\n",
              "6  Jon-Kabat  22\n",
              "7    Thabang  15\n",
              "8   Kgaogelo  11"
            ]
          },
          "metadata": {
            "tags": []
          },
          "execution_count": 6
        }
      ]
    },
    {
      "cell_type": "code",
      "metadata": {
        "colab": {
          "base_uri": "https://localhost:8080/"
        },
        "id": "CAQrhsI8KMlJ",
        "outputId": "df3e2cee-5f3c-4eff-81d4-30a84372cdda"
      },
      "source": [
        "#What in nan value\n",
        "age_df['Rank']=np.nan\n",
        "print(age_df)"
      ],
      "execution_count": 7,
      "outputs": [
        {
          "output_type": "stream",
          "text": [
            "  First name    Last name Age  Rank\n",
            "0       Tinu     Elejogun  14   NaN\n",
            "1      Marek  Kostrzewski  25   NaN\n",
            "2       Lily    McGarrett  18   NaN\n",
            "3  Olatunkbo     Chijiaku  22   NaN\n",
            "4   Adrienne     Anthoula  22   NaN\n",
            "5     Axelia   Athanasios  22   NaN\n",
            "6  Jon-Kabat         Zinn  22   NaN\n",
            "7    Thabang        Mosoa  15   NaN\n",
            "8   Kgaogelo        Mosoa  11   NaN\n"
          ],
          "name": "stdout"
        }
      ]
    },
    {
      "cell_type": "code",
      "metadata": {
        "colab": {
          "base_uri": "https://localhost:8080/",
          "height": 204
        },
        "id": "x5NAfIjfKrLa",
        "outputId": "92b54df6-b03e-4f92-88a8-18374ede1e3e"
      },
      "source": [
        "#head() and tail() functions\n",
        "age_df.head()"
      ],
      "execution_count": 8,
      "outputs": [
        {
          "output_type": "execute_result",
          "data": {
            "text/html": [
              "<div>\n",
              "<style scoped>\n",
              "    .dataframe tbody tr th:only-of-type {\n",
              "        vertical-align: middle;\n",
              "    }\n",
              "\n",
              "    .dataframe tbody tr th {\n",
              "        vertical-align: top;\n",
              "    }\n",
              "\n",
              "    .dataframe thead th {\n",
              "        text-align: right;\n",
              "    }\n",
              "</style>\n",
              "<table border=\"1\" class=\"dataframe\">\n",
              "  <thead>\n",
              "    <tr style=\"text-align: right;\">\n",
              "      <th></th>\n",
              "      <th>First name</th>\n",
              "      <th>Last name</th>\n",
              "      <th>Age</th>\n",
              "      <th>Rank</th>\n",
              "    </tr>\n",
              "  </thead>\n",
              "  <tbody>\n",
              "    <tr>\n",
              "      <th>0</th>\n",
              "      <td>Tinu</td>\n",
              "      <td>Elejogun</td>\n",
              "      <td>14</td>\n",
              "      <td>NaN</td>\n",
              "    </tr>\n",
              "    <tr>\n",
              "      <th>1</th>\n",
              "      <td>Marek</td>\n",
              "      <td>Kostrzewski</td>\n",
              "      <td>25</td>\n",
              "      <td>NaN</td>\n",
              "    </tr>\n",
              "    <tr>\n",
              "      <th>2</th>\n",
              "      <td>Lily</td>\n",
              "      <td>McGarrett</td>\n",
              "      <td>18</td>\n",
              "      <td>NaN</td>\n",
              "    </tr>\n",
              "    <tr>\n",
              "      <th>3</th>\n",
              "      <td>Olatunkbo</td>\n",
              "      <td>Chijiaku</td>\n",
              "      <td>22</td>\n",
              "      <td>NaN</td>\n",
              "    </tr>\n",
              "    <tr>\n",
              "      <th>4</th>\n",
              "      <td>Adrienne</td>\n",
              "      <td>Anthoula</td>\n",
              "      <td>22</td>\n",
              "      <td>NaN</td>\n",
              "    </tr>\n",
              "  </tbody>\n",
              "</table>\n",
              "</div>"
            ],
            "text/plain": [
              "  First name    Last name Age  Rank\n",
              "0       Tinu     Elejogun  14   NaN\n",
              "1      Marek  Kostrzewski  25   NaN\n",
              "2       Lily    McGarrett  18   NaN\n",
              "3  Olatunkbo     Chijiaku  22   NaN\n",
              "4   Adrienne     Anthoula  22   NaN"
            ]
          },
          "metadata": {
            "tags": []
          },
          "execution_count": 8
        }
      ]
    },
    {
      "cell_type": "code",
      "metadata": {
        "colab": {
          "base_uri": "https://localhost:8080/",
          "height": 204
        },
        "id": "pmazZHEiK-Jj",
        "outputId": "3852ddce-3614-4e20-cd63-9795135dc109"
      },
      "source": [
        "age_df.tail()"
      ],
      "execution_count": 9,
      "outputs": [
        {
          "output_type": "execute_result",
          "data": {
            "text/html": [
              "<div>\n",
              "<style scoped>\n",
              "    .dataframe tbody tr th:only-of-type {\n",
              "        vertical-align: middle;\n",
              "    }\n",
              "\n",
              "    .dataframe tbody tr th {\n",
              "        vertical-align: top;\n",
              "    }\n",
              "\n",
              "    .dataframe thead th {\n",
              "        text-align: right;\n",
              "    }\n",
              "</style>\n",
              "<table border=\"1\" class=\"dataframe\">\n",
              "  <thead>\n",
              "    <tr style=\"text-align: right;\">\n",
              "      <th></th>\n",
              "      <th>First name</th>\n",
              "      <th>Last name</th>\n",
              "      <th>Age</th>\n",
              "      <th>Rank</th>\n",
              "    </tr>\n",
              "  </thead>\n",
              "  <tbody>\n",
              "    <tr>\n",
              "      <th>4</th>\n",
              "      <td>Adrienne</td>\n",
              "      <td>Anthoula</td>\n",
              "      <td>22</td>\n",
              "      <td>NaN</td>\n",
              "    </tr>\n",
              "    <tr>\n",
              "      <th>5</th>\n",
              "      <td>Axelia</td>\n",
              "      <td>Athanasios</td>\n",
              "      <td>22</td>\n",
              "      <td>NaN</td>\n",
              "    </tr>\n",
              "    <tr>\n",
              "      <th>6</th>\n",
              "      <td>Jon-Kabat</td>\n",
              "      <td>Zinn</td>\n",
              "      <td>22</td>\n",
              "      <td>NaN</td>\n",
              "    </tr>\n",
              "    <tr>\n",
              "      <th>7</th>\n",
              "      <td>Thabang</td>\n",
              "      <td>Mosoa</td>\n",
              "      <td>15</td>\n",
              "      <td>NaN</td>\n",
              "    </tr>\n",
              "    <tr>\n",
              "      <th>8</th>\n",
              "      <td>Kgaogelo</td>\n",
              "      <td>Mosoa</td>\n",
              "      <td>11</td>\n",
              "      <td>NaN</td>\n",
              "    </tr>\n",
              "  </tbody>\n",
              "</table>\n",
              "</div>"
            ],
            "text/plain": [
              "  First name   Last name Age  Rank\n",
              "4   Adrienne    Anthoula  22   NaN\n",
              "5     Axelia  Athanasios  22   NaN\n",
              "6  Jon-Kabat        Zinn  22   NaN\n",
              "7    Thabang       Mosoa  15   NaN\n",
              "8   Kgaogelo       Mosoa  11   NaN"
            ]
          },
          "metadata": {
            "tags": []
          },
          "execution_count": 9
        }
      ]
    },
    {
      "cell_type": "code",
      "metadata": {
        "colab": {
          "base_uri": "https://localhost:8080/"
        },
        "id": "1D5K2qDSLGu-",
        "outputId": "4cf74e61-6b5a-4fb6-aed3-9d2f618bd3ee"
      },
      "source": [
        "#Assigning value to dataframe\n",
        "\n",
        "array_1=np.arange(9)\n",
        "array_1"
      ],
      "execution_count": 10,
      "outputs": [
        {
          "output_type": "execute_result",
          "data": {
            "text/plain": [
              "array([0, 1, 2, 3, 4, 5, 6, 7, 8])"
            ]
          },
          "metadata": {
            "tags": []
          },
          "execution_count": 10
        }
      ]
    },
    {
      "cell_type": "code",
      "metadata": {
        "colab": {
          "base_uri": "https://localhost:8080/"
        },
        "id": "0IJXf5YKLsNa",
        "outputId": "08defe7a-a2af-49ac-845f-097d9de4ac34"
      },
      "source": [
        "age_df['Rank']=array_1\n",
        "print(age_df)"
      ],
      "execution_count": 11,
      "outputs": [
        {
          "output_type": "stream",
          "text": [
            "  First name    Last name Age  Rank\n",
            "0       Tinu     Elejogun  14     0\n",
            "1      Marek  Kostrzewski  25     1\n",
            "2       Lily    McGarrett  18     2\n",
            "3  Olatunkbo     Chijiaku  22     3\n",
            "4   Adrienne     Anthoula  22     4\n",
            "5     Axelia   Athanasios  22     5\n",
            "6  Jon-Kabat         Zinn  22     6\n",
            "7    Thabang        Mosoa  15     7\n",
            "8   Kgaogelo        Mosoa  11     8\n"
          ],
          "name": "stdout"
        }
      ]
    },
    {
      "cell_type": "code",
      "metadata": {
        "colab": {
          "base_uri": "https://localhost:8080/",
          "height": 327
        },
        "id": "tmOjcowJRDvQ",
        "outputId": "2b9040c1-496b-4c3b-f586-79a00167a8fc"
      },
      "source": [
        "newrank_series= pd.Series([10,11,12],index=[3,5,6])\n",
        "age_df['Rank']=newrank_series\n",
        "age_df"
      ],
      "execution_count": 12,
      "outputs": [
        {
          "output_type": "execute_result",
          "data": {
            "text/html": [
              "<div>\n",
              "<style scoped>\n",
              "    .dataframe tbody tr th:only-of-type {\n",
              "        vertical-align: middle;\n",
              "    }\n",
              "\n",
              "    .dataframe tbody tr th {\n",
              "        vertical-align: top;\n",
              "    }\n",
              "\n",
              "    .dataframe thead th {\n",
              "        text-align: right;\n",
              "    }\n",
              "</style>\n",
              "<table border=\"1\" class=\"dataframe\">\n",
              "  <thead>\n",
              "    <tr style=\"text-align: right;\">\n",
              "      <th></th>\n",
              "      <th>First name</th>\n",
              "      <th>Last name</th>\n",
              "      <th>Age</th>\n",
              "      <th>Rank</th>\n",
              "    </tr>\n",
              "  </thead>\n",
              "  <tbody>\n",
              "    <tr>\n",
              "      <th>0</th>\n",
              "      <td>Tinu</td>\n",
              "      <td>Elejogun</td>\n",
              "      <td>14</td>\n",
              "      <td>NaN</td>\n",
              "    </tr>\n",
              "    <tr>\n",
              "      <th>1</th>\n",
              "      <td>Marek</td>\n",
              "      <td>Kostrzewski</td>\n",
              "      <td>25</td>\n",
              "      <td>NaN</td>\n",
              "    </tr>\n",
              "    <tr>\n",
              "      <th>2</th>\n",
              "      <td>Lily</td>\n",
              "      <td>McGarrett</td>\n",
              "      <td>18</td>\n",
              "      <td>NaN</td>\n",
              "    </tr>\n",
              "    <tr>\n",
              "      <th>3</th>\n",
              "      <td>Olatunkbo</td>\n",
              "      <td>Chijiaku</td>\n",
              "      <td>22</td>\n",
              "      <td>10.0</td>\n",
              "    </tr>\n",
              "    <tr>\n",
              "      <th>4</th>\n",
              "      <td>Adrienne</td>\n",
              "      <td>Anthoula</td>\n",
              "      <td>22</td>\n",
              "      <td>NaN</td>\n",
              "    </tr>\n",
              "    <tr>\n",
              "      <th>5</th>\n",
              "      <td>Axelia</td>\n",
              "      <td>Athanasios</td>\n",
              "      <td>22</td>\n",
              "      <td>11.0</td>\n",
              "    </tr>\n",
              "    <tr>\n",
              "      <th>6</th>\n",
              "      <td>Jon-Kabat</td>\n",
              "      <td>Zinn</td>\n",
              "      <td>22</td>\n",
              "      <td>12.0</td>\n",
              "    </tr>\n",
              "    <tr>\n",
              "      <th>7</th>\n",
              "      <td>Thabang</td>\n",
              "      <td>Mosoa</td>\n",
              "      <td>15</td>\n",
              "      <td>NaN</td>\n",
              "    </tr>\n",
              "    <tr>\n",
              "      <th>8</th>\n",
              "      <td>Kgaogelo</td>\n",
              "      <td>Mosoa</td>\n",
              "      <td>11</td>\n",
              "      <td>NaN</td>\n",
              "    </tr>\n",
              "  </tbody>\n",
              "</table>\n",
              "</div>"
            ],
            "text/plain": [
              "  First name    Last name Age  Rank\n",
              "0       Tinu     Elejogun  14   NaN\n",
              "1      Marek  Kostrzewski  25   NaN\n",
              "2       Lily    McGarrett  18   NaN\n",
              "3  Olatunkbo     Chijiaku  22  10.0\n",
              "4   Adrienne     Anthoula  22   NaN\n",
              "5     Axelia   Athanasios  22  11.0\n",
              "6  Jon-Kabat         Zinn  22  12.0\n",
              "7    Thabang        Mosoa  15   NaN\n",
              "8   Kgaogelo        Mosoa  11   NaN"
            ]
          },
          "metadata": {
            "tags": []
          },
          "execution_count": 12
        }
      ]
    },
    {
      "cell_type": "code",
      "metadata": {
        "colab": {
          "base_uri": "https://localhost:8080/"
        },
        "id": "4X-1PKwYGyOK",
        "outputId": "5175bfef-6ccc-4c4d-f628-ef79701af01e"
      },
      "source": [
        "del(age_df['Last name'])\n",
        "print(age_df)"
      ],
      "execution_count": 13,
      "outputs": [
        {
          "output_type": "stream",
          "text": [
            "  First name Age  Rank\n",
            "0       Tinu  14   NaN\n",
            "1      Marek  25   NaN\n",
            "2       Lily  18   NaN\n",
            "3  Olatunkbo  22  10.0\n",
            "4   Adrienne  22   NaN\n",
            "5     Axelia  22  11.0\n",
            "6  Jon-Kabat  22  12.0\n",
            "7    Thabang  15   NaN\n",
            "8   Kgaogelo  11   NaN\n"
          ],
          "name": "stdout"
        }
      ]
    }
  ]
}