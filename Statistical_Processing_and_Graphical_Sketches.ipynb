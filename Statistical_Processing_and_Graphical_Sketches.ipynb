{
  "nbformat": 4,
  "nbformat_minor": 0,
  "metadata": {
    "colab": {
      "name": "Statistical Processing and Graphical Sketches.ipynb",
      "provenance": [],
      "authorship_tag": "ABX9TyNY2fISPB3NLaY0EZGBWI4J",
      "include_colab_link": true
    },
    "kernelspec": {
      "name": "python3",
      "display_name": "Python 3"
    },
    "language_info": {
      "name": "python"
    }
  },
  "cells": [
    {
      "cell_type": "markdown",
      "metadata": {
        "id": "view-in-github",
        "colab_type": "text"
      },
      "source": [
        "<a href=\"https://colab.research.google.com/github/MadhurimaPaul-87/Python-Data-Analysis-and-Visualization-Bootcamp/blob/main/Statistical_Processing_and_Graphical_Sketches.ipynb\" target=\"_parent\"><img src=\"https://colab.research.google.com/assets/colab-badge.svg\" alt=\"Open In Colab\"/></a>"
      ]
    },
    {
      "cell_type": "code",
      "metadata": {
        "id": "_iasE7Bg643B"
      },
      "source": [
        "import matplotlib.pyplot as plt\n",
        "import numpy as np"
      ],
      "execution_count": 1,
      "outputs": []
    },
    {
      "cell_type": "code",
      "metadata": {
        "colab": {
          "base_uri": "https://localhost:8080/"
        },
        "id": "6yw2iKab9s63",
        "outputId": "1e586792-8ee9-4c51-879f-4492ea458d63"
      },
      "source": [
        "#Explaination of np.meshgrid() with 13*3 examples\n",
        "x= np.arange(3)\n",
        "y= np.arange(4,8)\n",
        "print(x)\n",
        "print(y)"
      ],
      "execution_count": 2,
      "outputs": [
        {
          "output_type": "stream",
          "text": [
            "[0 1 2]\n",
            "[4 5 6 7]\n"
          ],
          "name": "stdout"
        }
      ]
    },
    {
      "cell_type": "code",
      "metadata": {
        "id": "uOFyEMAB_Er0"
      },
      "source": [
        "x2,y2=np.meshgrid(x,y)"
      ],
      "execution_count": 3,
      "outputs": []
    },
    {
      "cell_type": "code",
      "metadata": {
        "colab": {
          "base_uri": "https://localhost:8080/"
        },
        "id": "T-Gzoehl_Oup",
        "outputId": "0363f475-62c5-43ca-f663-9d150c2dc661"
      },
      "source": [
        "print(x2)"
      ],
      "execution_count": 4,
      "outputs": [
        {
          "output_type": "stream",
          "text": [
            "[[0 1 2]\n",
            " [0 1 2]\n",
            " [0 1 2]\n",
            " [0 1 2]]\n"
          ],
          "name": "stdout"
        }
      ]
    },
    {
      "cell_type": "code",
      "metadata": {
        "colab": {
          "base_uri": "https://localhost:8080/"
        },
        "id": "igAFqIWq_SGU",
        "outputId": "1a5781cb-c8a3-4ba1-baf7-57b82ae704ec"
      },
      "source": [
        "print(y2)"
      ],
      "execution_count": 5,
      "outputs": [
        {
          "output_type": "stream",
          "text": [
            "[[4 4 4]\n",
            " [5 5 5]\n",
            " [6 6 6]\n",
            " [7 7 7]]\n"
          ],
          "name": "stdout"
        }
      ]
    },
    {
      "cell_type": "code",
      "metadata": {
        "colab": {
          "base_uri": "https://localhost:8080/"
        },
        "id": "LkqMXg9O_U92",
        "outputId": "389786a3-e36b-4d94-9b38-4a8a1d8f466d"
      },
      "source": [
        "z=2*x2+3*y2\n",
        "print(z)"
      ],
      "execution_count": 6,
      "outputs": [
        {
          "output_type": "stream",
          "text": [
            "[[12 14 16]\n",
            " [15 17 19]\n",
            " [18 20 22]\n",
            " [21 23 25]]\n"
          ],
          "name": "stdout"
        }
      ]
    },
    {
      "cell_type": "code",
      "metadata": {
        "colab": {
          "base_uri": "https://localhost:8080/",
          "height": 299
        },
        "id": "T31ZYbXq_q0y",
        "outputId": "b348af4c-ff27-4b94-cd79-a00b88aa788b"
      },
      "source": [
        "#Plot a linear function heatmap\n",
        "plt.imshow(z)\n",
        "plt.title(\"Plot of 2x+3y\")\n",
        "plt.colorbar()"
      ],
      "execution_count": 8,
      "outputs": [
        {
          "output_type": "execute_result",
          "data": {
            "text/plain": [
              "<matplotlib.colorbar.Colorbar at 0x7f801fa36310>"
            ]
          },
          "metadata": {
            "tags": []
          },
          "execution_count": 8
        },
        {
          "output_type": "display_data",
          "data": {
            "image/png": "[encoded data removed]",
            "text/plain": [
              "<Figure size 432x288 with 2 Axes>"
            ]
          },
          "metadata": {
            "tags": [],
            "needs_background": "light"
          }
        }
      ]
    },
    {
      "cell_type": "code",
      "metadata": {
        "colab": {
          "base_uri": "https://localhost:8080/"
        },
        "id": "uPF01W6EAlT9",
        "outputId": "433a49b4-b7b0-42d1-9364-73f164ea31f0"
      },
      "source": [
        "#Plot a cos function heatmap\n",
        "z2=np.cos(x2)+np.cos(y2)\n",
        "print(z2)"
      ],
      "execution_count": 9,
      "outputs": [
        {
          "output_type": "stream",
          "text": [
            "[[ 0.34635638 -0.11334131 -1.06979046]\n",
            " [ 1.28366219  0.82396449 -0.13248465]\n",
            " [ 1.96017029  1.50047259  0.54402345]\n",
            " [ 1.75390225  1.29420456  0.33775542]]\n"
          ],
          "name": "stdout"
        }
      ]
    },
    {
      "cell_type": "code",
      "metadata": {
        "colab": {
          "base_uri": "https://localhost:8080/",
          "height": 281
        },
        "id": "R669-4CwBmnq",
        "outputId": "8cab4b82-bfdf-43a4-9f30-9f69d17402e2"
      },
      "source": [
        "plt.imshow(z2)\n",
        "plt.title(\"Plot of cos(x2)+cos(y2)\")\n",
        "plt.colorbar()\n",
        "plt.savefig(\"cos plot.png\")"
      ],
      "execution_count": 11,
      "outputs": [
        {
          "output_type": "display_data",
          "data": {
            "image/png": "[encoded data removed]",
            "text/plain": [
              "<Figure size 432x288 with 2 Axes>"
            ]
          },
          "metadata": {
            "tags": [],
            "needs_background": "light"
          }
        }
      ]
    }
  ]
}