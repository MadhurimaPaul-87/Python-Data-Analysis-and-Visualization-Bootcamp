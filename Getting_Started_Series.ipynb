{
  "nbformat": 4,
  "nbformat_minor": 0,
  "metadata": {
    "colab": {
      "name": "Getting Started Series.ipynb",
      "provenance": [],
      "authorship_tag": "ABX9TyNWwuc8W+CSsnznx8uZ67fJ",
      "include_colab_link": true
    },
    "kernelspec": {
      "name": "python3",
      "display_name": "Python 3"
    },
    "language_info": {
      "name": "python"
    }
  },
  "cells": [
    {
      "cell_type": "markdown",
      "metadata": {
        "id": "view-in-github",
        "colab_type": "text"
      },
      "source": [
        "<a href=\"https://colab.research.google.com/github/MadhurimaPaul-87/Python-Data-Analysis-and-Visualization-Bootcamp/blob/main/Getting_Started_Series.ipynb\" target=\"_parent\"><img src=\"https://colab.research.google.com/assets/colab-badge.svg\" alt=\"Open In Colab\"/></a>"
      ]
    },
    {
      "cell_type": "code",
      "metadata": {
        "id": "G7mAQDnQxz11"
      },
      "source": [
        "import numpy as np\n",
        "import pandas as pd\n",
        "from pandas import Series"
      ],
      "execution_count": 3,
      "outputs": []
    },
    {
      "cell_type": "code",
      "metadata": {
        "colab": {
          "base_uri": "https://localhost:8080/"
        },
        "id": "dpuqbsIkyauf",
        "outputId": "d1c7cc6d-7059-45cb-87eb-e600646721a8"
      },
      "source": [
        "#Create a simple series variable\n",
        "s1=Series([5,10,15,20])\n",
        "print(s1)"
      ],
      "execution_count": 4,
      "outputs": [
        {
          "output_type": "stream",
          "text": [
            "0     5\n",
            "1    10\n",
            "2    15\n",
            "3    20\n",
            "dtype: int64\n"
          ],
          "name": "stdout"
        }
      ]
    },
    {
      "cell_type": "code",
      "metadata": {
        "colab": {
          "base_uri": "https://localhost:8080/"
        },
        "id": "wS2FlfNxzf3a",
        "outputId": "1c8299f8-b779-4410-a6cb-0a79302674a4"
      },
      "source": [
        "print(s1.values)"
      ],
      "execution_count": 5,
      "outputs": [
        {
          "output_type": "stream",
          "text": [
            "[ 5 10 15 20]\n"
          ],
          "name": "stdout"
        }
      ]
    },
    {
      "cell_type": "code",
      "metadata": {
        "colab": {
          "base_uri": "https://localhost:8080/"
        },
        "id": "EvwULIQrzukw",
        "outputId": "206d46f5-d5cc-4be2-fe8a-5220e24f0997"
      },
      "source": [
        "print(s1.index)"
      ],
      "execution_count": 6,
      "outputs": [
        {
          "output_type": "stream",
          "text": [
            "RangeIndex(start=0, stop=4, step=1)\n"
          ],
          "name": "stdout"
        }
      ]
    },
    {
      "cell_type": "code",
      "metadata": {
        "colab": {
          "base_uri": "https://localhost:8080/"
        },
        "id": "MkHQbHDxz0Du",
        "outputId": "281177be-9473-4ae4-cc4f-b6619c1b8074"
      },
      "source": [
        "print(s1.index.values)"
      ],
      "execution_count": 7,
      "outputs": [
        {
          "output_type": "stream",
          "text": [
            "[0 1 2 3]\n"
          ],
          "name": "stdout"
        }
      ]
    },
    {
      "cell_type": "code",
      "metadata": {
        "colab": {
          "base_uri": "https://localhost:8080/"
        },
        "id": "iSy-aA5hz74Q",
        "outputId": "7d135e39-b514-44ac-95de-97443c475816"
      },
      "source": [
        "#Create series from numpy\n",
        "revenue_array=np.array([400,300,200,100])\n",
        "print(revenue_array)"
      ],
      "execution_count": 8,
      "outputs": [
        {
          "output_type": "stream",
          "text": [
            "[400 300 200 100]\n"
          ],
          "name": "stdout"
        }
      ]
    },
    {
      "cell_type": "code",
      "metadata": {
        "colab": {
          "base_uri": "https://localhost:8080/"
        },
        "id": "yeWtQ_BC0R4S",
        "outputId": "63f420ff-a336-43dd-8eaf-146a5e62b948"
      },
      "source": [
        "revenue_series=Series(revenue_array)\n",
        "print(revenue_series)"
      ],
      "execution_count": 9,
      "outputs": [
        {
          "output_type": "stream",
          "text": [
            "0    400\n",
            "1    300\n",
            "2    200\n",
            "3    100\n",
            "dtype: int64\n"
          ],
          "name": "stdout"
        }
      ]
    },
    {
      "cell_type": "code",
      "metadata": {
        "colab": {
          "base_uri": "https://localhost:8080/"
        },
        "id": "AeNB81qq0nqL",
        "outputId": "09ea4357-55f1-490a-c8a6-ed3251dc6c1d"
      },
      "source": [
        "#Create Series with custom indexes\n",
        "revenue=Series(revenue_array,index= [\"uber\",\"ola\",\"lyft\",\"gojek\"])\n",
        "print(revenue)"
      ],
      "execution_count": 11,
      "outputs": [
        {
          "output_type": "stream",
          "text": [
            "uber     400\n",
            "ola      300\n",
            "lyft     200\n",
            "gojek    100\n",
            "dtype: int64\n"
          ],
          "name": "stdout"
        }
      ]
    },
    {
      "cell_type": "code",
      "metadata": {
        "colab": {
          "base_uri": "https://localhost:8080/"
        },
        "id": "7E6baBqadk-k",
        "outputId": "588b9fad-e478-497b-c021-3def97591673"
      },
      "source": [
        "revenue['ola']"
      ],
      "execution_count": 12,
      "outputs": [
        {
          "output_type": "execute_result",
          "data": {
            "text/plain": [
              "300"
            ]
          },
          "metadata": {
            "tags": []
          },
          "execution_count": 12
        }
      ]
    },
    {
      "cell_type": "code",
      "metadata": {
        "colab": {
          "base_uri": "https://localhost:8080/"
        },
        "id": "0giMO6JJduh0",
        "outputId": "8c2ab269-0559-43e9-e2bc-da21397e197a"
      },
      "source": [
        "revenue['gojek']"
      ],
      "execution_count": 13,
      "outputs": [
        {
          "output_type": "execute_result",
          "data": {
            "text/plain": [
              "100"
            ]
          },
          "metadata": {
            "tags": []
          },
          "execution_count": 13
        }
      ]
    },
    {
      "cell_type": "code",
      "metadata": {
        "colab": {
          "base_uri": "https://localhost:8080/"
        },
        "id": "OvHZkW7Vdx5g",
        "outputId": "98c34d05-c6be-477d-e8f6-a98e059d91a7"
      },
      "source": [
        "#Filter a series based on conditions\n",
        "print(revenue[revenue>250])"
      ],
      "execution_count": 14,
      "outputs": [
        {
          "output_type": "stream",
          "text": [
            "uber    400\n",
            "ola     300\n",
            "dtype: int64\n"
          ],
          "name": "stdout"
        }
      ]
    },
    {
      "cell_type": "code",
      "metadata": {
        "colab": {
          "base_uri": "https://localhost:8080/"
        },
        "id": "aH36EPWCgUC4",
        "outputId": "3b1d5983-c88a-49f3-c291-a948fa333714"
      },
      "source": [
        "#check whether an element is in a series or not\n",
        "print('ola' in revenue)"
      ],
      "execution_count": 15,
      "outputs": [
        {
          "output_type": "stream",
          "text": [
            "True\n"
          ],
          "name": "stdout"
        }
      ]
    },
    {
      "cell_type": "code",
      "metadata": {
        "colab": {
          "base_uri": "https://localhost:8080/"
        },
        "id": "n0oqKpvkgq8H",
        "outputId": "16cf9e5a-ad46-4f31-a1f7-fbc305b746f7"
      },
      "source": [
        "print('grab' in revenue)"
      ],
      "execution_count": 16,
      "outputs": [
        {
          "output_type": "stream",
          "text": [
            "False\n"
          ],
          "name": "stdout"
        }
      ]
    },
    {
      "cell_type": "code",
      "metadata": {
        "colab": {
          "base_uri": "https://localhost:8080/"
        },
        "id": "lgrPPkF0g3lG",
        "outputId": "4b5c5874-671c-4c52-faf1-e036c45a1b8c"
      },
      "source": [
        "#to_dict() function\n",
        "revenue_dict= revenue.to_dict()\n",
        "print(revenue_dict)"
      ],
      "execution_count": 17,
      "outputs": [
        {
          "output_type": "stream",
          "text": [
            "{'uber': 400, 'ola': 300, 'lyft': 200, 'gojek': 100}\n"
          ],
          "name": "stdout"
        }
      ]
    },
    {
      "cell_type": "code",
      "metadata": {
        "colab": {
          "base_uri": "https://localhost:8080/"
        },
        "id": "eU3q0XeRhhxT",
        "outputId": "57f89910-534d-41c2-8f25-90edae2bd857"
      },
      "source": [
        "#Addition of two series\n",
        "print(revenue+revenue)"
      ],
      "execution_count": 18,
      "outputs": [
        {
          "output_type": "stream",
          "text": [
            "uber     800\n",
            "ola      600\n",
            "lyft     400\n",
            "gojek    200\n",
            "dtype: int64\n"
          ],
          "name": "stdout"
        }
      ]
    },
    {
      "cell_type": "code",
      "metadata": {
        "colab": {
          "base_uri": "https://localhost:8080/"
        },
        "id": "FQQBQPBLh8mu",
        "outputId": "2e60aa12-795f-4271-952b-058d39002c81"
      },
      "source": [
        "#Assign names to a series and its index\n",
        "revenue.name=\"Company Revenue\"\n",
        "revenue.index.name=\"Company Name\"\n",
        "print(revenue)"
      ],
      "execution_count": 19,
      "outputs": [
        {
          "output_type": "stream",
          "text": [
            "Company Name\n",
            "uber     400\n",
            "ola      300\n",
            "lyft     200\n",
            "gojek    100\n",
            "Name: Company Revenue, dtype: int64\n"
          ],
          "name": "stdout"
        }
      ]
    }
  ]
}