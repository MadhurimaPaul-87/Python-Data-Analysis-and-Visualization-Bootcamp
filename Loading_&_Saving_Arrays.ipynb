{
  "nbformat": 4,
  "nbformat_minor": 0,
  "metadata": {
    "colab": {
      "name": "Loading & Saving Arrays.ipynb",
      "provenance": [],
      "authorship_tag": "ABX9TyMM3P1uM24kjhvHEhIOfhFi",
      "include_colab_link": true
    },
    "kernelspec": {
      "name": "python3",
      "display_name": "Python 3"
    },
    "language_info": {
      "name": "python"
    }
  },
  "cells": [
    {
      "cell_type": "markdown",
      "metadata": {
        "id": "view-in-github",
        "colab_type": "text"
      },
      "source": [
        "<a href=\"https://colab.research.google.com/github/MadhurimaPaul-87/Python-Data-Analysis-and-Visualization-Bootcamp/blob/main/Loading_%26_Saving_Arrays.ipynb\" target=\"_parent\"><img src=\"https://colab.research.google.com/assets/colab-badge.svg\" alt=\"Open In Colab\"/></a>"
      ]
    },
    {
      "cell_type": "code",
      "metadata": {
        "id": "KguQOIXMr78O"
      },
      "source": [
        "import numpy as np"
      ],
      "execution_count": 1,
      "outputs": []
    },
    {
      "cell_type": "code",
      "metadata": {
        "colab": {
          "base_uri": "https://localhost:8080/"
        },
        "id": "v_PlcCiesVLQ",
        "outputId": "d9519b35-639e-4f91-c01b-d238a19315b1"
      },
      "source": [
        "arr=np.arange(10)\n",
        "print(arr)"
      ],
      "execution_count": 2,
      "outputs": [
        {
          "output_type": "stream",
          "text": [
            "[0 1 2 3 4 5 6 7 8 9]\n"
          ],
          "name": "stdout"
        }
      ]
    },
    {
      "cell_type": "code",
      "metadata": {
        "id": "r9JiBX_isdtK"
      },
      "source": [
        "#saving single array\n",
        "np.save(\"saved_array\",arr)"
      ],
      "execution_count": 3,
      "outputs": []
    },
    {
      "cell_type": "code",
      "metadata": {
        "colab": {
          "base_uri": "https://localhost:8080/"
        },
        "id": "eT_m6gPbtlx2",
        "outputId": "72ff55f5-8938-4221-9a26-1c3c3d2e65db"
      },
      "source": [
        "#loading single array\n",
        "load_Array1= np.load(\"saved_array.npy\")\n",
        "print(load_Array1)"
      ],
      "execution_count": 4,
      "outputs": [
        {
          "output_type": "stream",
          "text": [
            "[0 1 2 3 4 5 6 7 8 9]\n"
          ],
          "name": "stdout"
        }
      ]
    },
    {
      "cell_type": "code",
      "metadata": {
        "id": "yUu6v7SUuV9E"
      },
      "source": [
        "#saving multiple array\n",
        "arr2=np.arange(25)\n",
        "arr3=np.arange(5)\n",
        "np.savez(\"saved_archive.npz\",x=arr2,y=arr3)"
      ],
      "execution_count": 5,
      "outputs": []
    },
    {
      "cell_type": "code",
      "metadata": {
        "colab": {
          "base_uri": "https://localhost:8080/"
        },
        "id": "H_OOBL87vaj4",
        "outputId": "b0e6f4ec-efc1-42ef-8daf-2a4e5bfa7784"
      },
      "source": [
        "#loading multiple array\n",
        "load_npz=np.load(\"saved_archive.npz\")\n",
        "print(load_npz['x'])\n",
        "print(load_npz['y'])"
      ],
      "execution_count": 7,
      "outputs": [
        {
          "output_type": "stream",
          "text": [
            "[ 0  1  2  3  4  5  6  7  8  9 10 11 12 13 14 15 16 17 18 19 20 21 22 23\n",
            " 24]\n",
            "[0 1 2 3 4]\n"
          ],
          "name": "stdout"
        }
      ]
    },
    {
      "cell_type": "code",
      "metadata": {
        "id": "iR5F7jh-4UqJ"
      },
      "source": [
        "#saving array to text file\n",
        "np.savetxt(\"my_array.txt\",arr2,delimiter=\",\")"
      ],
      "execution_count": 9,
      "outputs": []
    },
    {
      "cell_type": "code",
      "metadata": {
        "colab": {
          "base_uri": "https://localhost:8080/"
        },
        "id": "CblmdDrb5Ij5",
        "outputId": "fec863d4-49f9-4b89-9973-f618177d7198"
      },
      "source": [
        "#loading array from text file\n",
        "load_file=np.loadtxt(\"my_array.txt\",delimiter=\",\")\n",
        "print(load_file)"
      ],
      "execution_count": 10,
      "outputs": [
        {
          "output_type": "stream",
          "text": [
            "[ 0.  1.  2.  3.  4.  5.  6.  7.  8.  9. 10. 11. 12. 13. 14. 15. 16. 17.\n",
            " 18. 19. 20. 21. 22. 23. 24.]\n"
          ],
          "name": "stdout"
        }
      ]
    },
    {
      "cell_type": "code",
      "metadata": {
        "id": "uTiG6JRB5pGu"
      },
      "source": [
        ""
      ],
      "execution_count": null,
      "outputs": []
    }
  ]
}