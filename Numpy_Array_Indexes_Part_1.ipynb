{
  "nbformat": 4,
  "nbformat_minor": 0,
  "metadata": {
    "colab": {
      "name": "Numpy Array Indexes Part 1.ipynb",
      "provenance": [],
      "authorship_tag": "ABX9TyMAc6w3PPZPiIEnkjCG0df3",
      "include_colab_link": true
    },
    "kernelspec": {
      "name": "python3",
      "display_name": "Python 3"
    },
    "language_info": {
      "name": "python"
    }
  },
  "cells": [
    {
      "cell_type": "markdown",
      "metadata": {
        "id": "view-in-github",
        "colab_type": "text"
      },
      "source": [
        "<a href=\"https://colab.research.google.com/github/MadhurimaPaul-87/Python-Data-Analysis-and-Visualization-Bootcamp/blob/main/Numpy_Array_Indexes_Part_1.ipynb\" target=\"_parent\"><img src=\"https://colab.research.google.com/assets/colab-badge.svg\" alt=\"Open In Colab\"/></a>"
      ]
    },
    {
      "cell_type": "code",
      "metadata": {
        "id": "R2kfRJGT7j2F"
      },
      "source": [
        "import numpy as np"
      ],
      "execution_count": null,
      "outputs": []
    },
    {
      "cell_type": "code",
      "metadata": {
        "colab": {
          "base_uri": "https://localhost:8080/"
        },
        "id": "C5nv4uIlmder",
        "outputId": "aab9338e-5420-454b-ba88-90669d43e58d"
      },
      "source": [
        "arr= np.arange(100,160,2)\n",
        "print(arr)"
      ],
      "execution_count": null,
      "outputs": [
        {
          "output_type": "stream",
          "text": [
            "[100 102 104 106 108 110 112 114 116 118 120 122 124 126 128 130 132 134\n",
            " 136 138 140 142 144 146 148 150 152 154 156 158]\n"
          ],
          "name": "stdout"
        }
      ]
    },
    {
      "cell_type": "code",
      "metadata": {
        "colab": {
          "base_uri": "https://localhost:8080/"
        },
        "id": "XreCY1QFm3I1",
        "outputId": "37df5de5-f375-4cdc-bcda-c9364264bacc"
      },
      "source": [
        "#Access individual array elements\n",
        "print(\"First Element\")\n",
        "print(arr[0])\n",
        "print(\"Second Element\")\n",
        "print(arr[1])\n",
        "print(\"Third Element\")\n",
        "print(arr[2])\n",
        "print(\"Fifth Element\")\n",
        "print(arr[4])"
      ],
      "execution_count": null,
      "outputs": [
        {
          "output_type": "stream",
          "text": [
            "First Element\n",
            "100\n",
            "Second Element\n",
            "102\n",
            "Third Element\n",
            "104\n",
            "Fifth Element\n",
            "108\n"
          ],
          "name": "stdout"
        }
      ]
    },
    {
      "cell_type": "code",
      "metadata": {
        "colab": {
          "base_uri": "https://localhost:8080/"
        },
        "id": "nKMzd7-soNbd",
        "outputId": "de2027ea-f0a0-4421-fd09-2c6992b4860d"
      },
      "source": [
        "#Slicing of array Indexes arr[start:stop:step]\n",
        "print(arr[0:5:1])"
      ],
      "execution_count": null,
      "outputs": [
        {
          "output_type": "stream",
          "text": [
            "[100 102 104 106 108]\n"
          ],
          "name": "stdout"
        }
      ]
    },
    {
      "cell_type": "code",
      "metadata": {
        "colab": {
          "base_uri": "https://localhost:8080/"
        },
        "id": "iOK5gQcHsH39",
        "outputId": "11f93e72-71c1-4a22-9607-fffc0bfeee7a"
      },
      "source": [
        "#Updating array using slices\n",
        "arr[0:5]=0\n",
        "print(arr)"
      ],
      "execution_count": null,
      "outputs": [
        {
          "output_type": "stream",
          "text": [
            "[  0   0   0   0   0 110 112 114 116 118 120 122 124 126 128 130 132 134\n",
            " 136 138 140 142 144 146 148 150 152 154 156 158]\n"
          ],
          "name": "stdout"
        }
      ]
    },
    {
      "cell_type": "code",
      "metadata": {
        "colab": {
          "base_uri": "https://localhost:8080/"
        },
        "id": "HSD5BEb1sfKb",
        "outputId": "40b87376-ceb2-4b35-873a-2ac63c71a6c9"
      },
      "source": [
        "#Interesting point about slicing-Memory-allocation -view vs copy\n",
        "arr2=arr[4:10]\n",
        "print(arr2)\n",
        "arr2[:]=1\n",
        "print(arr2)"
      ],
      "execution_count": null,
      "outputs": [
        {
          "output_type": "stream",
          "text": [
            "[  0 110 112 114 116 118]\n",
            "[1 1 1 1 1 1]\n"
          ],
          "name": "stdout"
        }
      ]
    },
    {
      "cell_type": "code",
      "metadata": {
        "colab": {
          "base_uri": "https://localhost:8080/"
        },
        "id": "iuw4wJ-MtFuJ",
        "outputId": "0f1e3333-bfde-4663-c565-82ab3226b6c8"
      },
      "source": [
        "print(arr)"
      ],
      "execution_count": null,
      "outputs": [
        {
          "output_type": "stream",
          "text": [
            "[  0   0   0   0   1   1   1   1   1   1 120 122 124 126 128 130 132 134\n",
            " 136 138 140 142 144 146 148 150 152 154 156 158]\n"
          ],
          "name": "stdout"
        }
      ]
    },
    {
      "cell_type": "code",
      "metadata": {
        "colab": {
          "base_uri": "https://localhost:8080/"
        },
        "id": "JBv5E8S4uA49",
        "outputId": "52b8ba40-1c75-44fc-9f90-be5ce21b1d80"
      },
      "source": [
        "#copy() function=> creating new numpy memory for array\n",
        "arr3=arr.copy()\n",
        "print(arr3)"
      ],
      "execution_count": null,
      "outputs": [
        {
          "output_type": "stream",
          "text": [
            "[  0   0   0   0   1   1   1   1   1   1 120 122 124 126 128 130 132 134\n",
            " 136 138 140 142 144 146 148 150 152 154 156 158]\n"
          ],
          "name": "stdout"
        }
      ]
    },
    {
      "cell_type": "code",
      "metadata": {
        "colab": {
          "base_uri": "https://localhost:8080/"
        },
        "id": "PDNVH0QavslU",
        "outputId": "e03c82c7-29f4-41d0-a8da-15359a3e5dcf"
      },
      "source": [
        "arr3[:]=0\n",
        "print(arr3)\n",
        "print(arr)"
      ],
      "execution_count": null,
      "outputs": [
        {
          "output_type": "stream",
          "text": [
            "[0 0 0 0 0 0 0 0 0 0 0 0 0 0 0 0 0 0 0 0 0 0 0 0 0 0 0 0 0 0]\n",
            "[  0   0   0   0   1   1   1   1   1   1 120 122 124 126 128 130 132 134\n",
            " 136 138 140 142 144 146 148 150 152 154 156 158]\n"
          ],
          "name": "stdout"
        }
      ]
    }
  ]
}