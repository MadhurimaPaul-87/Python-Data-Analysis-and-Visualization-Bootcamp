{
  "nbformat": 4,
  "nbformat_minor": 0,
  "metadata": {
    "colab": {
      "name": "Premium Array Operations-Numpy.ipynb",
      "provenance": [],
      "authorship_tag": "ABX9TyMG8AeAMHxvBM/o25XRF+pI",
      "include_colab_link": true
    },
    "kernelspec": {
      "name": "python3",
      "display_name": "Python 3"
    },
    "language_info": {
      "name": "python"
    }
  },
  "cells": [
    {
      "cell_type": "markdown",
      "metadata": {
        "id": "view-in-github",
        "colab_type": "text"
      },
      "source": [
        "<a href=\"https://colab.research.google.com/github/MadhurimaPaul-87/Python-Data-Analysis-and-Visualization-Bootcamp/blob/main/Premium_Array_Operations_Numpy.ipynb\" target=\"_parent\"><img src=\"https://colab.research.google.com/assets/colab-badge.svg\" alt=\"Open In Colab\"/></a>"
      ]
    },
    {
      "cell_type": "code",
      "metadata": {
        "id": "gYrk4_9Flrkr"
      },
      "source": [
        "import numpy as np"
      ],
      "execution_count": 1,
      "outputs": []
    },
    {
      "cell_type": "code",
      "metadata": {
        "colab": {
          "base_uri": "https://localhost:8080/"
        },
        "id": "uPsUesZvmBKZ",
        "outputId": "c84d8a91-0799-476d-b3fb-67a758f46496"
      },
      "source": [
        "#Function of numpy arrays-arange()\n",
        "A= np.arange(15)\n",
        "print(A)"
      ],
      "execution_count": 5,
      "outputs": [
        {
          "output_type": "stream",
          "text": [
            "[ 0  1  2  3  4  5  6  7  8  9 10 11 12 13 14]\n"
          ],
          "name": "stdout"
        }
      ]
    },
    {
      "cell_type": "code",
      "metadata": {
        "colab": {
          "base_uri": "https://localhost:8080/"
        },
        "id": "uHfyc8qlmQxT",
        "outputId": "1bcc89fd-3d6a-47fa-eb8a-51c56e7d2dd0"
      },
      "source": [
        "B= np.arange(5,10)\n",
        "print(B)"
      ],
      "execution_count": 3,
      "outputs": [
        {
          "output_type": "stream",
          "text": [
            "[5 6 7 8 9]\n"
          ],
          "name": "stdout"
        }
      ]
    },
    {
      "cell_type": "code",
      "metadata": {
        "colab": {
          "base_uri": "https://localhost:8080/"
        },
        "id": "XBUTwgABmh5p",
        "outputId": "f2d9fdb7-e419-46de-8b11-7890a1937bf2"
      },
      "source": [
        "C= np.arange(5,10,2)\n",
        "print(C)"
      ],
      "execution_count": 4,
      "outputs": [
        {
          "output_type": "stream",
          "text": [
            "[5 7 9]\n"
          ],
          "name": "stdout"
        }
      ]
    },
    {
      "cell_type": "code",
      "metadata": {
        "colab": {
          "base_uri": "https://localhost:8080/"
        },
        "id": "_YjILctBmu-T",
        "outputId": "513110f0-34c7-41be-e3df-b9f5da4e9aa4"
      },
      "source": [
        "#Function of numpy array-sqrt()\n",
        "D=np.sqrt(A)\n",
        "print(D)"
      ],
      "execution_count": 6,
      "outputs": [
        {
          "output_type": "stream",
          "text": [
            "[0.         1.         1.41421356 1.73205081 2.         2.23606798\n",
            " 2.44948974 2.64575131 2.82842712 3.         3.16227766 3.31662479\n",
            " 3.46410162 3.60555128 3.74165739]\n"
          ],
          "name": "stdout"
        }
      ]
    },
    {
      "cell_type": "code",
      "metadata": {
        "colab": {
          "base_uri": "https://localhost:8080/"
        },
        "id": "NVgsRlP2nOcC",
        "outputId": "56dd4a63-4fa3-4e60-e878-2943f25f0af6"
      },
      "source": [
        "#Function of numpy array-exp()\n",
        "E=np.exp(A)\n",
        "print(E)"
      ],
      "execution_count": 7,
      "outputs": [
        {
          "output_type": "stream",
          "text": [
            "[1.00000000e+00 2.71828183e+00 7.38905610e+00 2.00855369e+01\n",
            " 5.45981500e+01 1.48413159e+02 4.03428793e+02 1.09663316e+03\n",
            " 2.98095799e+03 8.10308393e+03 2.20264658e+04 5.98741417e+04\n",
            " 1.62754791e+05 4.42413392e+05 1.20260428e+06]\n"
          ],
          "name": "stdout"
        }
      ]
    },
    {
      "cell_type": "code",
      "metadata": {
        "colab": {
          "base_uri": "https://localhost:8080/"
        },
        "id": "7fCLcTP9nwSJ",
        "outputId": "90041610-2961-4514-fe69-182b2bedb301"
      },
      "source": [
        "#Function of numpy array-random()\n",
        "F= np.random.randn(5)\n",
        "print(F)"
      ],
      "execution_count": 8,
      "outputs": [
        {
          "output_type": "stream",
          "text": [
            "[-0.81488066  1.29775621 -0.02124521  0.37833017 -0.70925193]\n"
          ],
          "name": "stdout"
        }
      ]
    },
    {
      "cell_type": "code",
      "metadata": {
        "colab": {
          "base_uri": "https://localhost:8080/"
        },
        "id": "d1bMRdlOoZq2",
        "outputId": "7d1d2759-08f9-436f-9191-6452a819e83b"
      },
      "source": [
        "F=np.random.randn(5,5)\n",
        "print(F)"
      ],
      "execution_count": 9,
      "outputs": [
        {
          "output_type": "stream",
          "text": [
            "[[-1.19385428  1.04421319 -0.42594597  1.12013059  1.12630655]\n",
            " [ 1.21847488  0.37890403  1.54906256  0.95429414  0.23559889]\n",
            " [ 0.18206554  0.45883032 -1.27524588 -0.6566868  -1.74822876]\n",
            " [-0.78600143  1.34689551  1.0408503  -0.28954098  0.20398938]\n",
            " [-0.76402013 -2.4507369   0.25798243  0.37529557 -1.0509706 ]]\n"
          ],
          "name": "stdout"
        }
      ]
    },
    {
      "cell_type": "code",
      "metadata": {
        "colab": {
          "base_uri": "https://localhost:8080/"
        },
        "id": "LsE6msz8pRj7",
        "outputId": "329e74e1-132a-4111-b495-1e4cdd5d785c"
      },
      "source": [
        "#Function of numpy arrays-add()\n",
        "G= np.add(A,D)\n",
        "print(G)"
      ],
      "execution_count": 10,
      "outputs": [
        {
          "output_type": "stream",
          "text": [
            "[ 0.          2.          3.41421356  4.73205081  6.          7.23606798\n",
            "  8.44948974  9.64575131 10.82842712 12.         13.16227766 14.31662479\n",
            " 15.46410162 16.60555128 17.74165739]\n"
          ],
          "name": "stdout"
        }
      ]
    },
    {
      "cell_type": "code",
      "metadata": {
        "colab": {
          "base_uri": "https://localhost:8080/"
        },
        "id": "aHTtEOVIpuD0",
        "outputId": "2c93d23e-27b6-409b-f7fa-6d6720463382"
      },
      "source": [
        "#Function of numpy arrays- maximum()\n",
        "A= np.array([1,5,7,10])\n",
        "B= np.array([0,6,8,9])\n",
        "H= np.maximum(A,B)\n",
        "print(H)"
      ],
      "execution_count": 11,
      "outputs": [
        {
          "output_type": "stream",
          "text": [
            "[ 1  6  8 10]\n"
          ],
          "name": "stdout"
        }
      ]
    }
  ]
}